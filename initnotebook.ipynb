{
 "cells": [
  {
   "cell_type": "code",
   "execution_count": 8,
   "metadata": {
    "collapsed": false
   },
   "outputs": [
    {
     "data": {
      "text/html": [
       "'R version 3.2.1 (2015-06-18)'"
      ],
      "text/latex": [
       "'R version 3.2.1 (2015-06-18)'"
      ],
      "text/markdown": [
       "'R version 3.2.1 (2015-06-18)'"
      ],
      "text/plain": [
       "[1] \"R version 3.2.1 (2015-06-18)\""
      ]
     },
     "execution_count": 8,
     "metadata": {},
     "output_type": "execute_result"
    },
    {
     "name": "stdout",
     "output_type": "stream",
     "text": [
      "[1] \"email: 'Maciek Sykulski'<macieksk@gmail.com>\"\n"
     ]
    },
    {
     "data": {
      "text/html": [
       "0"
      ],
      "text/latex": [
       "0"
      ],
      "text/markdown": [
       "0"
      ],
      "text/plain": [
       "[1] 0"
      ]
     },
     "execution_count": 8,
     "metadata": {},
     "output_type": "execute_result"
    }
   ],
   "source": [
    "R.version.string\n",
    "print(\"email: 'Maciek Sykulski'<macieksk@gmail.com>\")\n",
    "length(ls())"
   ]
  },
  {
   "cell_type": "code",
   "execution_count": 13,
   "metadata": {
    "collapsed": false
   },
   "outputs": [],
   "source": [
    "projDir<-\"/home/msykulski/msykulski/workspace/zgm/aneuploidy/\"\n",
    "projectPrefix<-\"R_aneuploidy\"\n",
    "\n",
    "#\n",
    "load.sources<-function(){\n",
    "    for (f in  c(\"utils.R\" #Contains inpar, save_new_image, etc\n",
    "                 #...  \n",
    "                 ) \n",
    "        ){\n",
    "    source(paste(projDir,\"/src/\",f,sep=\"\"))\n",
    "   }\n",
    "}\n",
    "load.sources()"
   ]
  },
  {
   "cell_type": "code",
   "execution_count": null,
   "metadata": {
    "collapsed": false
   },
   "outputs": [],
   "source": [
    "#system.time(load(paste(projDir,\"/r_saved_images/\",projectPrefix,\".Rdata\",sep=\"\")))\n",
    "lsos()\n",
    "gc()"
   ]
  },
  {
   "cell_type": "code",
   "execution_count": 16,
   "metadata": {
    "collapsed": false
   },
   "outputs": [
    {
     "data": {
      "text/html": [
       "<table>\n",
       "<thead><tr><th></th><th scope=col>used</th><th scope=col>(Mb)</th><th scope=col>gc trigger</th><th scope=col>(Mb)</th><th scope=col>max used</th><th scope=col>(Mb)</th></tr></thead>\n",
       "<tbody>\n",
       "\t<tr><th scope=row>Ncells</th><td>363704.0</td><td>    19.5</td><td>592000.0</td><td>    31.7</td><td>460000.0</td><td>    24.6</td></tr>\n",
       "\t<tr><th scope=row>Vcells</th><td> 584815.0</td><td>      4.5</td><td>1308461.0</td><td>     10.0</td><td> 824373.0</td><td>      6.3</td></tr>\n",
       "</tbody>\n",
       "</table>\n"
      ],
      "text/latex": [
       "\\begin{tabular}{r|llllll}\n",
       "  & used & (Mb) & gc trigger & (Mb) & max used & (Mb)\\\\\n",
       "\\hline\n",
       "\tNcells & 363704.0 &     19.5 & 592000.0 &     31.7 & 460000.0 &     24.6\\\\\n",
       "\tVcells &  584815.0 &       4.5 & 1308461.0 &      10.0 &  824373.0 &       6.3\\\\\n",
       "\\end{tabular}\n"
      ],
      "text/markdown": [
       "1. 363704\n",
       "2. 584815\n",
       "3. 19.5\n",
       "4. 4.5\n",
       "5. 592000\n",
       "6. 1308461\n",
       "7. 31.7\n",
       "8. 10\n",
       "9. 460000\n",
       "10. 824373\n",
       "11. 24.6\n",
       "12. 6.3\n",
       "\n",
       "\n"
      ],
      "text/plain": [
       "         used (Mb) gc trigger (Mb) max used (Mb)\n",
       "Ncells 363704 19.5     592000 31.7   460000 24.6\n",
       "Vcells 584815  4.5    1308461 10.0   824373  6.3"
      ]
     },
     "execution_count": 16,
     "metadata": {},
     "output_type": "execute_result"
    }
   ],
   "source": [
    "gc()\n",
    "#system.time(save_new_image())"
   ]
  },
  {
   "cell_type": "code",
   "execution_count": 19,
   "metadata": {
    "collapsed": false
   },
   "outputs": [
    {
     "data": {
      "text/plain": [
       "R version 3.2.1 (2015-06-18)\n",
       "Platform: x86_64-pc-linux-gnu (64-bit)\n",
       "Running under: Debian GNU/Linux 8 (jessie)\n",
       "\n",
       "locale:\n",
       " [1] LC_CTYPE=en_US.UTF-8       LC_NUMERIC=C              \n",
       " [3] LC_TIME=en_US.UTF-8        LC_COLLATE=en_US.UTF-8    \n",
       " [5] LC_MONETARY=en_US.UTF-8    LC_MESSAGES=en_US.UTF-8   \n",
       " [7] LC_PAPER=en_US.UTF-8       LC_NAME=C                 \n",
       " [9] LC_ADDRESS=C               LC_TELEPHONE=C            \n",
       "[11] LC_MEASUREMENT=en_US.UTF-8 LC_IDENTIFICATION=C       \n",
       "\n",
       "attached base packages:\n",
       "[1] parallel  stats     graphics  grDevices utils     datasets  methods  \n",
       "[8] base     \n",
       "\n",
       "other attached packages:\n",
       " [1] reshape_0.8.5       gplots_2.17.0       latticeExtra_0.6-26\n",
       " [4] RColorBrewer_1.1-2  matrixStats_0.50.1  MASS_7.3-45        \n",
       " [7] cluster_2.0.3       ggplot2_2.0.0       lattice_0.20-33    \n",
       "[10] fastmatch_1.0-4     hash_2.2.6         \n",
       "\n",
       "loaded via a namespace (and not attached):\n",
       " [1] Rcpp_0.12.3        magrittr_1.5       munsell_0.4.2      uuid_0.1-2        \n",
       " [5] colorspace_1.2-6   stringr_1.0.0      plyr_1.8.3         caTools_1.17.1    \n",
       " [9] tools_3.2.1        grid_3.2.1         gtable_0.1.2       KernSmooth_2.23-15\n",
       "[13] gtools_3.5.0       digest_0.6.9       IRdisplay_0.3      repr_0.4          \n",
       "[17] bitops_1.0-6       base64enc_0.1-3    IRkernel_0.5       evaluate_0.8      \n",
       "[21] gdata_2.17.0       rzmq_0.7.7         stringi_1.0-1      scales_0.3.0      \n",
       "[25] jsonlite_0.9.19   "
      ]
     },
     "execution_count": 19,
     "metadata": {},
     "output_type": "execute_result"
    }
   ],
   "source": [
    "library(lattice)\n",
    "library(latticeExtra)\n",
    "library(ggplot2)\n",
    "library(gplots)\n",
    "#library(png)\n",
    "\n",
    "#library(Hmisc)\n",
    "library(cluster)\n",
    "library(MASS)\n",
    "library(reshape)\n",
    "\n",
    "#library(lumi)\n",
    "#library(lumiHumanIDMapping)\n",
    "#library(lumiHumanAll.db)\n",
    "#library(limma)\n",
    "\n",
    "#library(annotate)\n",
    "#library(GOstats)\n",
    "\n",
    "#library(multtest)\n",
    "library(matrixStats)\n",
    "#library(extrafont)\n",
    "#library(enrichvs)\n",
    "#library(statmod)\n",
    "#library(flexmix)\n",
    "\n",
    "load.sources()\n",
    "\n",
    "sessionInfo()"
   ]
  },
  {
   "cell_type": "code",
   "execution_count": null,
   "metadata": {
    "collapsed": true
   },
   "outputs": [],
   "source": []
  }
 ],
 "metadata": {
  "kernelspec": {
   "display_name": "R",
   "language": "R",
   "name": "ir"
  },
  "language_info": {
   "codemirror_mode": "r",
   "file_extension": ".r",
   "mimetype": "text/x-r-source",
   "name": "R",
   "pygments_lexer": "r",
   "version": "3.3.1"
  }
 },
 "nbformat": 4,
 "nbformat_minor": 0
}
