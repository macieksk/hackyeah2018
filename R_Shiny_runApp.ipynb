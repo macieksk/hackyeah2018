{
 "cells": [
  {
   "cell_type": "code",
   "execution_count": 17,
   "metadata": {},
   "outputs": [
    {
     "data": {
      "text/html": [
       "'R version 3.5.1 (2018-07-02)'"
      ],
      "text/latex": [
       "'R version 3.5.1 (2018-07-02)'"
      ],
      "text/markdown": [
       "'R version 3.5.1 (2018-07-02)'"
      ],
      "text/plain": [
       "[1] \"R version 3.5.1 (2018-07-02)\""
      ]
     },
     "metadata": {},
     "output_type": "display_data"
    },
    {
     "name": "stdout",
     "output_type": "stream",
     "text": [
      "[1] \"email: 'Maciek Sykulski'<macieksk@gmail.com>\"\n"
     ]
    },
    {
     "data": {
      "text/html": [
       "26"
      ],
      "text/latex": [
       "26"
      ],
      "text/markdown": [
       "26"
      ],
      "text/plain": [
       "[1] 26"
      ]
     },
     "metadata": {},
     "output_type": "display_data"
    },
    {
     "data": {
      "text/html": [
       "'/home/hackyeah/hackyeah2018/shiny-examples/063-superzip-example'"
      ],
      "text/latex": [
       "'/home/hackyeah/hackyeah2018/shiny-examples/063-superzip-example'"
      ],
      "text/markdown": [
       "'/home/hackyeah/hackyeah2018/shiny-examples/063-superzip-example'"
      ],
      "text/plain": [
       "[1] \"/home/hackyeah/hackyeah2018/shiny-examples/063-superzip-example\""
      ]
     },
     "metadata": {},
     "output_type": "display_data"
    }
   ],
   "source": [
    "R.version.string\n",
    "print(\"email: 'Maciek Sykulski'<macieksk@gmail.com>\")\n",
    "length(ls())\n",
    "getwd()"
   ]
  },
  {
   "cell_type": "code",
   "execution_count": 4,
   "metadata": {},
   "outputs": [
    {
     "name": "stderr",
     "output_type": "stream",
     "text": [
      "hash-2.2.6 provided by Decision Patterns\n",
      "\n",
      "Loading required package: gsubfn\n",
      "Loading required package: proto\n",
      "Loading required package: RSQLite\n"
     ]
    }
   ],
   "source": [
    "projDir<-\"/home/hackyeah/hackyeah2018\"\n",
    "projectPrefix<-\"R_Shiny_runApp\"\n",
    "\n",
    "#\n",
    "load.sources<-function(){\n",
    "    for (f in  c(\"utils.R\" #Contains inpar, save_new_image, etc\n",
    "                 #...  \n",
    "                 ) \n",
    "        ){\n",
    "    source(paste(projDir,\"/src/\",f,sep=\"\"))\n",
    "   }\n",
    "}\n",
    "load.sources()"
   ]
  },
  {
   "cell_type": "code",
   "execution_count": 5,
   "metadata": {},
   "outputs": [
    {
     "data": {
      "text/html": [
       "<table>\n",
       "<thead><tr><th></th><th scope=col>Type</th><th scope=col>Size</th><th scope=col>Rows</th><th scope=col>Columns</th></tr></thead>\n",
       "<tbody>\n",
       "\t<tr><th scope=row>load.sources</th><td>function</td><td>25744   </td><td>NA      </td><td>NA      </td></tr>\n",
       "\t<tr><th scope=row>cpar</th><td>function</td><td> 9000   </td><td>NA      </td><td>NA      </td></tr>\n",
       "\t<tr><th scope=row>read.table.into.db</th><td>function</td><td> 7328   </td><td>NA      </td><td>NA      </td></tr>\n",
       "\t<tr><th scope=row>db.info</th><td>function</td><td> 6280   </td><td>NA      </td><td>NA      </td></tr>\n",
       "\t<tr><th scope=row>safe_command_run</th><td>function</td><td> 5600   </td><td>NA      </td><td>NA      </td></tr>\n",
       "\t<tr><th scope=row>multiloop</th><td>function</td><td> 5376   </td><td>NA      </td><td>NA      </td></tr>\n",
       "\t<tr><th scope=row>postscript.call</th><td>function</td><td> 4936   </td><td>NA      </td><td>NA      </td></tr>\n",
       "\t<tr><th scope=row>add.records.to.table</th><td>function</td><td> 4792   </td><td>NA      </td><td>NA      </td></tr>\n",
       "\t<tr><th scope=row>save_new_image</th><td>function</td><td> 4696   </td><td>NA      </td><td>NA      </td></tr>\n",
       "\t<tr><th scope=row>pdf.call</th><td>function</td><td> 4600   </td><td>NA      </td><td>NA      </td></tr>\n",
       "</tbody>\n",
       "</table>\n"
      ],
      "text/latex": [
       "\\begin{tabular}{r|llll}\n",
       "  & Type & Size & Rows & Columns\\\\\n",
       "\\hline\n",
       "\tload.sources & function & 25744    & NA       & NA      \\\\\n",
       "\tcpar & function &  9000    & NA       & NA      \\\\\n",
       "\tread.table.into.db & function &  7328    & NA       & NA      \\\\\n",
       "\tdb.info & function &  6280    & NA       & NA      \\\\\n",
       "\tsafe\\_command\\_run & function &  5600    & NA       & NA      \\\\\n",
       "\tmultiloop & function &  5376    & NA       & NA      \\\\\n",
       "\tpostscript.call & function &  4936    & NA       & NA      \\\\\n",
       "\tadd.records.to.table & function &  4792    & NA       & NA      \\\\\n",
       "\tsave\\_new\\_image & function &  4696    & NA       & NA      \\\\\n",
       "\tpdf.call & function &  4600    & NA       & NA      \\\\\n",
       "\\end{tabular}\n"
      ],
      "text/markdown": [
       "\n",
       "| <!--/--> | Type | Size | Rows | Columns | \n",
       "|---|---|---|---|---|---|---|---|---|---|\n",
       "| load.sources | function | 25744    | NA       | NA       | \n",
       "| cpar | function |  9000    | NA       | NA       | \n",
       "| read.table.into.db | function |  7328    | NA       | NA       | \n",
       "| db.info | function |  6280    | NA       | NA       | \n",
       "| safe_command_run | function |  5600    | NA       | NA       | \n",
       "| multiloop | function |  5376    | NA       | NA       | \n",
       "| postscript.call | function |  4936    | NA       | NA       | \n",
       "| add.records.to.table | function |  4792    | NA       | NA       | \n",
       "| save_new_image | function |  4696    | NA       | NA       | \n",
       "| pdf.call | function |  4600    | NA       | NA       | \n",
       "\n",
       "\n"
      ],
      "text/plain": [
       "                     Type     Size  Rows Columns\n",
       "load.sources         function 25744 NA   NA     \n",
       "cpar                 function  9000 NA   NA     \n",
       "read.table.into.db   function  7328 NA   NA     \n",
       "db.info              function  6280 NA   NA     \n",
       "safe_command_run     function  5600 NA   NA     \n",
       "multiloop            function  5376 NA   NA     \n",
       "postscript.call      function  4936 NA   NA     \n",
       "add.records.to.table function  4792 NA   NA     \n",
       "save_new_image       function  4696 NA   NA     \n",
       "pdf.call             function  4600 NA   NA     "
      ]
     },
     "metadata": {},
     "output_type": "display_data"
    },
    {
     "data": {
      "text/html": [
       "<table>\n",
       "<thead><tr><th></th><th scope=col>used</th><th scope=col>(Mb)</th><th scope=col>gc trigger</th><th scope=col>(Mb)</th><th scope=col>max used</th><th scope=col>(Mb)</th></tr></thead>\n",
       "<tbody>\n",
       "\t<tr><th scope=row>Ncells</th><td> 676019</td><td>36.2   </td><td>1167574</td><td>62.4   </td><td>1167574</td><td>62.4   </td></tr>\n",
       "\t<tr><th scope=row>Vcells</th><td>1264525</td><td> 9.7   </td><td>8388608</td><td>64.0   </td><td>1943643</td><td>14.9   </td></tr>\n",
       "</tbody>\n",
       "</table>\n"
      ],
      "text/latex": [
       "\\begin{tabular}{r|llllll}\n",
       "  & used & (Mb) & gc trigger & (Mb) & max used & (Mb)\\\\\n",
       "\\hline\n",
       "\tNcells &  676019 & 36.2    & 1167574 & 62.4    & 1167574 & 62.4   \\\\\n",
       "\tVcells & 1264525 &  9.7    & 8388608 & 64.0    & 1943643 & 14.9   \\\\\n",
       "\\end{tabular}\n"
      ],
      "text/markdown": [
       "\n",
       "| <!--/--> | used | (Mb) | gc trigger | (Mb) | max used | (Mb) | \n",
       "|---|---|\n",
       "| Ncells |  676019 | 36.2    | 1167574 | 62.4    | 1167574 | 62.4    | \n",
       "| Vcells | 1264525 |  9.7    | 8388608 | 64.0    | 1943643 | 14.9    | \n",
       "\n",
       "\n"
      ],
      "text/plain": [
       "       used    (Mb) gc trigger (Mb) max used (Mb)\n",
       "Ncells  676019 36.2 1167574    62.4 1167574  62.4\n",
       "Vcells 1264525  9.7 8388608    64.0 1943643  14.9"
      ]
     },
     "metadata": {},
     "output_type": "display_data"
    }
   ],
   "source": [
    "#system.time(load(paste(projDir,\"/r_saved_images/\",projectPrefix,\".Rdata\",sep=\"\")))\n",
    "lsos()\n",
    "gc()"
   ]
  },
  {
   "cell_type": "code",
   "execution_count": 5,
   "metadata": {},
   "outputs": [
    {
     "data": {
      "text/html": [
       "<table>\n",
       "<thead><tr><th></th><th scope=col>used</th><th scope=col>(Mb)</th><th scope=col>gc trigger</th><th scope=col>(Mb)</th><th scope=col>max used</th><th scope=col>(Mb)</th></tr></thead>\n",
       "<tbody>\n",
       "\t<tr><th scope=row>Ncells</th><td> 644071</td><td>34.4   </td><td>1168576</td><td>62.5   </td><td> 940480</td><td>50.3   </td></tr>\n",
       "\t<tr><th scope=row>Vcells</th><td>1097677</td><td> 8.4   </td><td>1916127</td><td>14.7   </td><td>1410773</td><td>10.8   </td></tr>\n",
       "</tbody>\n",
       "</table>\n"
      ],
      "text/latex": [
       "\\begin{tabular}{r|llllll}\n",
       "  & used & (Mb) & gc trigger & (Mb) & max used & (Mb)\\\\\n",
       "\\hline\n",
       "\tNcells &  644071 & 34.4    & 1168576 & 62.5    &  940480 & 50.3   \\\\\n",
       "\tVcells & 1097677 &  8.4    & 1916127 & 14.7    & 1410773 & 10.8   \\\\\n",
       "\\end{tabular}\n"
      ],
      "text/markdown": [
       "\n",
       "| <!--/--> | used | (Mb) | gc trigger | (Mb) | max used | (Mb) | \n",
       "|---|---|\n",
       "| Ncells |  644071 | 34.4    | 1168576 | 62.5    |  940480 | 50.3    | \n",
       "| Vcells | 1097677 |  8.4    | 1916127 | 14.7    | 1410773 | 10.8    | \n",
       "\n",
       "\n"
      ],
      "text/plain": [
       "       used    (Mb) gc trigger (Mb) max used (Mb)\n",
       "Ncells  644071 34.4 1168576    62.5  940480  50.3\n",
       "Vcells 1097677  8.4 1916127    14.7 1410773  10.8"
      ]
     },
     "metadata": {},
     "output_type": "display_data"
    },
    {
     "name": "stdout",
     "output_type": "stream",
     "text": [
      "[1] \"/home/hackyeah/hackyeah2018/r_saved_images/R_Shiny_runApp_2018-11-25_00_16_02.Rdata\"\n"
     ]
    },
    {
     "data": {
      "text/plain": [
       "   user  system elapsed \n",
       "  0.008   0.000   0.009 "
      ]
     },
     "metadata": {},
     "output_type": "display_data"
    }
   ],
   "source": [
    "gc()\n",
    "#system.time(save_new_image())"
   ]
  },
  {
   "cell_type": "code",
   "execution_count": 7,
   "metadata": {},
   "outputs": [
    {
     "data": {
      "text/plain": [
       "R version 3.5.1 (2018-07-02)\n",
       "Platform: x86_64-pc-linux-gnu (64-bit)\n",
       "Running under: Debian GNU/Linux buster/sid\n",
       "\n",
       "Matrix products: default\n",
       "BLAS: /usr/lib/x86_64-linux-gnu/openblas/libblas.so.3\n",
       "LAPACK: /usr/lib/x86_64-linux-gnu/libopenblasp-r0.2.20.so\n",
       "\n",
       "locale:\n",
       " [1] LC_CTYPE=en_US.UTF-8       LC_NUMERIC=C              \n",
       " [3] LC_TIME=en_US.UTF-8        LC_COLLATE=en_US.UTF-8    \n",
       " [5] LC_MONETARY=en_US.UTF-8    LC_MESSAGES=en_US.UTF-8   \n",
       " [7] LC_PAPER=en_US.UTF-8       LC_NAME=C                 \n",
       " [9] LC_ADDRESS=C               LC_TELEPHONE=C            \n",
       "[11] LC_MEASUREMENT=en_US.UTF-8 LC_IDENTIFICATION=C       \n",
       "\n",
       "attached base packages:\n",
       "[1] parallel  stats     graphics  grDevices utils     datasets  methods  \n",
       "[8] base     \n",
       "\n",
       "other attached packages:\n",
       " [1] rPython_0.0-6       RJSONIO_1.3-1.1     shiny_1.2.0        \n",
       " [4] matrixStats_0.54.0  reshape_0.8.8       MASS_7.3-51.1      \n",
       " [7] cluster_2.0.7-1     gplots_3.0.1        ggplot2_3.1.0      \n",
       "[10] latticeExtra_0.6-28 RColorBrewer_1.1-2  lattice_0.20-38    \n",
       "[13] sqldf_0.4-11        RSQLite_2.1.1       gsubfn_0.7         \n",
       "[16] proto_1.0.0         fastmatch_1.1-0     hash_2.2.6         \n",
       "\n",
       "loaded via a namespace (and not attached):\n",
       " [1] Rcpp_1.0.0         gtools_3.8.1       assertthat_0.2.0   digest_0.6.18     \n",
       " [5] mime_0.6           IRdisplay_0.6.1    R6_2.3.0           plyr_1.8.4        \n",
       " [9] chron_2.3-53       repr_0.17          evaluate_0.12      pillar_1.3.0      \n",
       "[13] rlang_0.3.0.1      lazyeval_0.2.1     uuid_0.1-2         gdata_2.18.0      \n",
       "[17] blob_1.1.1         bit_1.1-14         munsell_0.5.0      compiler_3.5.1    \n",
       "[21] httpuv_1.4.5       pkgconfig_2.0.2    base64enc_0.1-3    htmltools_0.3.6   \n",
       "[25] tcltk_3.5.1        tidyselect_0.2.5   tibble_1.4.2       crayon_1.3.4      \n",
       "[29] dplyr_0.7.8        withr_2.1.2        later_0.7.5        bitops_1.0-6      \n",
       "[33] grid_3.5.1         xtable_1.8-3       jsonlite_1.5       gtable_0.2.0      \n",
       "[37] DBI_1.0.0          magrittr_1.5       scales_1.0.0       KernSmooth_2.23-15\n",
       "[41] promises_1.0.1     bindrcpp_0.2.2     IRkernel_0.8.14    tools_3.5.1       \n",
       "[45] bit64_0.9-7        glue_1.3.0         purrr_0.2.5        colorspace_1.3-2  \n",
       "[49] caTools_1.17.1.1   memoise_1.1.0      pbdZMQ_0.3-3       bindr_0.1.1       "
      ]
     },
     "metadata": {},
     "output_type": "display_data"
    }
   ],
   "source": [
    "library(lattice)\n",
    "library(latticeExtra)\n",
    "library(ggplot2)\n",
    "library(gplots)\n",
    "#library(png)\n",
    "\n",
    "#library(Hmisc)\n",
    "library(cluster)\n",
    "library(MASS)\n",
    "library(reshape)\n",
    "\n",
    "#library(lumi)\n",
    "#library(lumiHumanIDMapping)\n",
    "#library(lumiHumanAll.db)\n",
    "#library(limma)\n",
    "\n",
    "#library(annotate)\n",
    "#library(GOstats)\n",
    "\n",
    "#library(multtest)\n",
    "library(matrixStats)\n",
    "#library(extrafont)\n",
    "#library(enrichvs)\n",
    "#library(statmod)\n",
    "#library(flexmix)\n",
    "\n",
    "\n",
    "library(shiny)\n",
    "library(rPython)\n",
    "\n",
    "load.sources()\n",
    "\n",
    "sessionInfo()"
   ]
  },
  {
   "cell_type": "code",
   "execution_count": 12,
   "metadata": {},
   "outputs": [
    {
     "data": {
      "text/html": [
       "'/home/hackyeah/hackyeah2018/shiny-examples/063-superzip-example'"
      ],
      "text/latex": [
       "'/home/hackyeah/hackyeah2018/shiny-examples/063-superzip-example'"
      ],
      "text/markdown": [
       "'/home/hackyeah/hackyeah2018/shiny-examples/063-superzip-example'"
      ],
      "text/plain": [
       "[1] \"/home/hackyeah/hackyeah2018/shiny-examples/063-superzip-example\""
      ]
     },
     "metadata": {},
     "output_type": "display_data"
    }
   ],
   "source": [
    "getwd()"
   ]
  },
  {
   "cell_type": "code",
   "execution_count": null,
   "metadata": {},
   "outputs": [],
   "source": []
  },
  {
   "cell_type": "code",
   "execution_count": 32,
   "metadata": {},
   "outputs": [
    {
     "data": {
      "text/html": [
       "'POWIATY'"
      ],
      "text/latex": [
       "'POWIATY'"
      ],
      "text/markdown": [
       "'POWIATY'"
      ],
      "text/plain": [
       "[1] \"POWIATY\"\n",
       "attr(,\"driver\")\n",
       "[1] \"ESRI Shapefile\"\n",
       "attr(,\"nlayers\")\n",
       "[1] 1"
      ]
     },
     "metadata": {},
     "output_type": "display_data"
    },
    {
     "name": "stdout",
     "output_type": "stream",
     "text": [
      "OGR data source with driver: ESRI Shapefile \n",
      "Source: \"/home/hackyeah/hackyeah2018/geo_data/POWIATY.shp\", layer: \"POWIATY\"\n",
      "with 380 features\n",
      "It has 1 fields\n"
     ]
    }
   ],
   "source": [
    "library(rgdal)\n",
    "setwd(projDir)\n",
    "ogrListLayers(dsn=\"geo_data/POWIATY.shp\")\n",
    "powiatyOGR <- readOGR(\"geo_data/POWIATY.shp\",encoding=\"UTF-8\") \n",
    "proj4string(powiatyOGR) <- CRS(\"+proj=longlat +ellps=WGS84 +datum=WGS84 +no_defs\")"
   ]
  },
  {
   "cell_type": "code",
   "execution_count": 34,
   "metadata": {},
   "outputs": [],
   "source": [
    "selectedRegion<-FALSE"
   ]
  },
  {
   "cell_type": "code",
   "execution_count": null,
   "metadata": {},
   "outputs": [
    {
     "name": "stderr",
     "output_type": "stream",
     "text": [
      "\n",
      "Listening on http://127.0.0.1:23401\n"
     ]
    }
   ],
   "source": [
    "setwd(paste0(projDir,\"/shiny-examples/063-superzip-example/\"))\n",
    "\n",
    "#ui = bootstrapPage(\n",
    "#  sliderInput('x', 'Set x', 0, 10, 5),\n",
    "#  verbatimTextOutput('out1')\n",
    "#)\n",
    "#rm(ui)\n",
    "\n",
    "#server = function(input, output, session){\n",
    "#  output$out1 <- renderPrint({\n",
    "#    python.call(\"len\", 1:input$x)\n",
    "#  })\n",
    "#}\n",
    "#rm(server)\n",
    "\n",
    "library(shiny)\n",
    "#library(rPython)\n",
    "\n",
    "\n",
    "runApp(port = 23401)"
   ]
  },
  {
   "cell_type": "code",
   "execution_count": 55,
   "metadata": {},
   "outputs": [
    {
     "data": {
      "text/html": [
       "<table>\n",
       "<thead><tr><th></th><th scope=col>NAZWA</th></tr></thead>\n",
       "<tbody>\n",
       "\t<tr><th scope=row>351</th><td>płoński</td></tr>\n",
       "</tbody>\n",
       "</table>\n"
      ],
      "text/latex": [
       "\\begin{tabular}{r|l}\n",
       "  & NAZWA\\\\\n",
       "\\hline\n",
       "\t351 & płoński\\\\\n",
       "\\end{tabular}\n"
      ],
      "text/markdown": [
       "\n",
       "| <!--/--> | NAZWA | \n",
       "|---|\n",
       "| 351 | płoński | \n",
       "\n",
       "\n"
      ],
      "text/plain": [
       "    NAZWA  \n",
       "351 płoński"
      ]
     },
     "metadata": {},
     "output_type": "display_data"
    }
   ],
   "source": [
    "selectedRegion@data"
   ]
  },
  {
   "cell_type": "code",
   "execution_count": 56,
   "metadata": {},
   "outputs": [
    {
     "data": {
      "text/plain": [
       "An object of class \"SpatialPolygonsDataFrame\"\n",
       "Slot \"data\":\n",
       "      NAZWA\n",
       "351 płoński\n",
       "\n",
       "Slot \"polygons\":\n",
       "[[1]]\n",
       "An object of class \"Polygons\"\n",
       "Slot \"Polygons\":\n",
       "[[1]]\n",
       "An object of class \"Polygon\"\n",
       "Slot \"labpt\":\n",
       "[1] 20.35444 52.62754\n",
       "\n",
       "Slot \"area\":\n",
       "[1] 0.1831217\n",
       "\n",
       "Slot \"hole\":\n",
       "[1] FALSE\n",
       "\n",
       "Slot \"ringDir\":\n",
       "[1] 1\n",
       "\n",
       "Slot \"coords\":\n",
       "           [,1]     [,2]\n",
       "  [1,] 20.38811 52.73388\n",
       "  [2,] 20.40212 52.73018\n",
       "  [3,] 20.42485 52.73811\n",
       "  [4,] 20.42633 52.73617\n",
       "  [5,] 20.44081 52.73929\n",
       "  [6,] 20.44719 52.73442\n",
       "  [7,] 20.46606 52.73237\n",
       "  [8,] 20.47088 52.72778\n",
       "  [9,] 20.47628 52.72671\n",
       " [10,] 20.47536 52.72300\n",
       " [11,] 20.47308 52.72326\n",
       " [12,] 20.47365 52.72148\n",
       " [13,] 20.47124 52.72026\n",
       " [14,] 20.47371 52.71978\n",
       " [15,] 20.47422 52.71726\n",
       " [16,] 20.48279 52.71999\n",
       " [17,] 20.48922 52.71941\n",
       " [18,] 20.49338 52.72177\n",
       " [19,] 20.50607 52.71534\n",
       " [20,] 20.49646 52.70943\n",
       " [21,] 20.50811 52.70665\n",
       " [22,] 20.51774 52.70045\n",
       " [23,] 20.51904 52.70611\n",
       " [24,] 20.52165 52.70962\n",
       " [25,] 20.53355 52.71510\n",
       " [26,] 20.53709 52.71340\n",
       " [27,] 20.54089 52.71589\n",
       " [28,] 20.54230 52.70678\n",
       " [29,] 20.56944 52.71372\n",
       " [30,] 20.57000 52.71928\n",
       " [31,] 20.58637 52.72350\n",
       " [32,] 20.58315 52.72648\n",
       " [33,] 20.58297 52.73307\n",
       " [34,] 20.59973 52.73446\n",
       " [35,] 20.60029 52.73146\n",
       " [36,] 20.61141 52.73417\n",
       " [37,] 20.61312 52.73573\n",
       " [38,] 20.61405 52.72549\n",
       " [39,] 20.62608 52.72377\n",
       " [40,] 20.63242 52.72104\n",
       " [41,] 20.64391 52.72239\n",
       " [42,] 20.64865 52.72147\n",
       " [43,] 20.65200 52.71951\n",
       " [44,] 20.65114 52.71822\n",
       " [45,] 20.65316 52.71688\n",
       " [46,] 20.65063 52.71402\n",
       " [47,] 20.65764 52.71123\n",
       " [48,] 20.66812 52.71277\n",
       " [49,] 20.67509 52.71214\n",
       " [50,] 20.68115 52.71342\n",
       " [51,] 20.68570 52.71650\n",
       " [52,] 20.69400 52.71739\n",
       " [53,] 20.69834 52.70876\n",
       " [54,] 20.69737 52.70545\n",
       " [55,] 20.70419 52.70216\n",
       " [56,] 20.70730 52.70207\n",
       " [57,] 20.70568 52.69987\n",
       " [58,] 20.71210 52.69936\n",
       " [59,] 20.71247 52.70320\n",
       " [60,] 20.71914 52.70594\n",
       " [61,] 20.71851 52.70712\n",
       " [62,] 20.72744 52.70827\n",
       " [63,] 20.72825 52.70450\n",
       " [64,] 20.72260 52.69594\n",
       " [65,] 20.72550 52.69538\n",
       " [66,] 20.73146 52.69017\n",
       " [67,] 20.72998 52.68751\n",
       " [68,] 20.71499 52.68532\n",
       " [69,] 20.70732 52.68248\n",
       " [70,] 20.71322 52.68157\n",
       " [71,] 20.69602 52.67629\n",
       " [72,] 20.70143 52.66902\n",
       " [73,] 20.71089 52.66267\n",
       " [74,] 20.70404 52.65521\n",
       " [75,] 20.70246 52.65146\n",
       " [76,] 20.69458 52.65103\n",
       " [77,] 20.70618 52.63684\n",
       " [78,] 20.70379 52.63689\n",
       " [79,] 20.70546 52.62560\n",
       " [80,] 20.70445 52.62411\n",
       " [81,] 20.69743 52.62501\n",
       " [82,] 20.69748 52.62207\n",
       " [83,] 20.70156 52.61374\n",
       " [84,] 20.71486 52.61726\n",
       " [85,] 20.72368 52.60587\n",
       " [86,] 20.71871 52.60486\n",
       " [87,] 20.71160 52.59911\n",
       " [88,] 20.71494 52.59162\n",
       " [89,] 20.70978 52.59207\n",
       " [90,] 20.70985 52.59032\n",
       " [91,] 20.70403 52.58850\n",
       " [92,] 20.70127 52.59000\n",
       " [93,] 20.65580 52.59545\n",
       " [94,] 20.65589 52.59356\n",
       " [95,] 20.66297 52.58583\n",
       " [96,] 20.65883 52.58332\n",
       " [97,] 20.65736 52.57996\n",
       " [98,] 20.63735 52.58317\n",
       " [99,] 20.63606 52.57989\n",
       "[100,] 20.62915 52.57923\n",
       "[101,] 20.62838 52.57572\n",
       "[102,] 20.61838 52.57440\n",
       "[103,] 20.61727 52.57205\n",
       "[104,] 20.61366 52.57161\n",
       "[105,] 20.61350 52.56987\n",
       "[106,] 20.60738 52.56765\n",
       "[107,] 20.60627 52.56584\n",
       "[108,] 20.60431 52.56632\n",
       "[109,] 20.60691 52.56134\n",
       "[110,] 20.60989 52.56136\n",
       "[111,] 20.61706 52.54817\n",
       "[112,] 20.61655 52.54048\n",
       "[113,] 20.62012 52.52989\n",
       "[114,] 20.60713 52.52006\n",
       "[115,] 20.59018 52.51428\n",
       "[116,] 20.58917 52.50652\n",
       "[117,] 20.58037 52.50446\n",
       "[118,] 20.58253 52.50130\n",
       "[119,] 20.58188 52.49430\n",
       "[120,] 20.58356 52.48795\n",
       "[121,] 20.58186 52.48649\n",
       "[122,] 20.57342 52.46405\n",
       "[123,] 20.54189 52.46706\n",
       "[124,] 20.52911 52.45964\n",
       "[125,] 20.51714 52.45655\n",
       "[126,] 20.50107 52.44698\n",
       "[127,] 20.48489 52.44421\n",
       "[128,] 20.48732 52.44035\n",
       "[129,] 20.48722 52.43609\n",
       "[130,] 20.48635 52.43359\n",
       "[131,] 20.48173 52.43029\n",
       "[132,] 20.48433 52.42728\n",
       "[133,] 20.49502 52.42563\n",
       "[134,] 20.49747 52.42191\n",
       "[135,] 20.44976 52.40421\n",
       "[136,] 20.43040 52.39451\n",
       "[137,] 20.40481 52.38434\n",
       "[138,] 20.39916 52.38322\n",
       "[139,] 20.39660 52.38114\n",
       "[140,] 20.37187 52.38850\n",
       "[141,] 20.35048 52.38856\n",
       "[142,] 20.33664 52.39033\n",
       "[143,] 20.32972 52.38939\n",
       "[144,] 20.31337 52.39117\n",
       "[145,] 20.27839 52.39037\n",
       "[146,] 20.25102 52.38809\n",
       "[147,] 20.25182 52.39963\n",
       "[148,] 20.24713 52.40269\n",
       "[149,] 20.24276 52.41303\n",
       "[150,] 20.23242 52.41725\n",
       "[151,] 20.23710 52.42007\n",
       "[152,] 20.23639 52.42313\n",
       "[153,] 20.23184 52.42683\n",
       "[154,] 20.23303 52.42904\n",
       "[155,] 20.22977 52.43203\n",
       "[156,] 20.23139 52.43573\n",
       "[157,] 20.23773 52.43626\n",
       "[158,] 20.24012 52.44238\n",
       "[159,] 20.23942 52.44363\n",
       "[160,] 20.23017 52.44396\n",
       "[161,] 20.22398 52.44631\n",
       "[162,] 20.22284 52.44722\n",
       "[163,] 20.22386 52.44886\n",
       "[164,] 20.22246 52.44947\n",
       "[165,] 20.22238 52.45096\n",
       "[166,] 20.23161 52.45528\n",
       "[167,] 20.24658 52.45870\n",
       "[168,] 20.24743 52.46110\n",
       "[169,] 20.24418 52.46264\n",
       "[170,] 20.24676 52.46932\n",
       "[171,] 20.24143 52.47796\n",
       "[172,] 20.24114 52.48782\n",
       "[173,] 20.23514 52.48741\n",
       "[174,] 20.23753 52.49034\n",
       "[175,] 20.24035 52.48991\n",
       "[176,] 20.24226 52.49217\n",
       "[177,] 20.23988 52.49227\n",
       "[178,] 20.24207 52.49406\n",
       "[179,] 20.23343 52.49597\n",
       "[180,] 20.23857 52.50637\n",
       "[181,] 20.23635 52.50693\n",
       "[182,] 20.23512 52.50406\n",
       "[183,] 20.23055 52.50145\n",
       "[184,] 20.22359 52.50277\n",
       "[185,] 20.22351 52.50758\n",
       "[186,] 20.22592 52.51341\n",
       "[187,] 20.20781 52.51655\n",
       "[188,] 20.19850 52.51506\n",
       "[189,] 20.18815 52.51328\n",
       "[190,] 20.19369 52.52106\n",
       "[191,] 20.19634 52.53693\n",
       "[192,] 20.19888 52.53808\n",
       "[193,] 20.20060 52.54718\n",
       "[194,] 20.19681 52.55116\n",
       "[195,] 20.19348 52.55241\n",
       "[196,] 20.19166 52.55504\n",
       "[197,] 20.19254 52.55744\n",
       "[198,] 20.18998 52.55868\n",
       "[199,] 20.18777 52.56244\n",
       "[200,] 20.16313 52.56798\n",
       "[201,] 20.16726 52.57085\n",
       "[202,] 20.16322 52.57423\n",
       "[203,] 20.17353 52.57754\n",
       "[204,] 20.17302 52.58076\n",
       "[205,] 20.16992 52.58414\n",
       "[206,] 20.15459 52.59354\n",
       "[207,] 20.15304 52.59860\n",
       "[208,] 20.15673 52.60243\n",
       "[209,] 20.14878 52.60731\n",
       "[210,] 20.14758 52.61578\n",
       "[211,] 20.15379 52.62159\n",
       "[212,] 20.15067 52.62515\n",
       "[213,] 20.14999 52.63016\n",
       "[214,] 20.15619 52.63168\n",
       "[215,] 20.16692 52.64892\n",
       "[216,] 20.16684 52.65008\n",
       "[217,] 20.16113 52.65206\n",
       "[218,] 20.14857 52.65372\n",
       "[219,] 20.15499 52.66638\n",
       "[220,] 20.15735 52.66492\n",
       "[221,] 20.16192 52.67208\n",
       "[222,] 20.14930 52.67542\n",
       "[223,] 20.14895 52.67941\n",
       "[224,] 20.12517 52.68294\n",
       "[225,] 20.12321 52.67625\n",
       "[226,] 20.11730 52.67620\n",
       "[227,] 20.11142 52.66815\n",
       "[228,] 20.09867 52.66925\n",
       "[229,] 20.08848 52.67659\n",
       "[230,] 20.09385 52.67951\n",
       "[231,] 20.09451 52.68197\n",
       "[232,] 20.09226 52.68647\n",
       "[233,] 20.08346 52.68642\n",
       "[234,] 20.07905 52.68909\n",
       "[235,] 20.08027 52.69680\n",
       "[236,] 20.07449 52.69403\n",
       "[237,] 20.07142 52.69408\n",
       "[238,] 20.06328 52.69311\n",
       "[239,] 20.05028 52.69872\n",
       "[240,] 20.04560 52.69887\n",
       "[241,] 20.04682 52.70363\n",
       "[242,] 20.05087 52.70297\n",
       "[243,] 20.05965 52.70675\n",
       "[244,] 20.06252 52.71100\n",
       "[245,] 20.06142 52.71112\n",
       "[246,] 20.06098 52.71535\n",
       "[247,] 20.05426 52.71970\n",
       "[248,] 20.04208 52.72172\n",
       "[249,] 20.04183 52.72285\n",
       "[250,] 20.04199 52.72695\n",
       "[251,] 20.04385 52.73040\n",
       "[252,] 20.04990 52.73123\n",
       "[253,] 20.05976 52.73681\n",
       "[254,] 20.05911 52.73976\n",
       "[255,] 20.06097 52.74901\n",
       "[256,] 20.05898 52.74977\n",
       "[257,] 20.06477 52.75948\n",
       "[258,] 20.05866 52.76058\n",
       "[259,] 20.05257 52.75798\n",
       "[260,] 20.04548 52.75924\n",
       "[261,] 20.04358 52.76028\n",
       "[262,] 20.04398 52.76342\n",
       "[263,] 20.02919 52.77175\n",
       "[264,] 20.01553 52.77212\n",
       "[265,] 20.00069 52.77572\n",
       "[266,] 19.99849 52.77330\n",
       "[267,] 19.98863 52.77329\n",
       "[268,] 19.97663 52.77015\n",
       "[269,] 19.96822 52.77511\n",
       "[270,] 19.96624 52.77685\n",
       "[271,] 19.96727 52.77890\n",
       "[272,] 19.96400 52.78075\n",
       "[273,] 19.96634 52.78356\n",
       "[274,] 19.97257 52.78194\n",
       "[275,] 19.97218 52.78616\n",
       "[276,] 19.96943 52.78738\n",
       "[277,] 19.96714 52.78639\n",
       "[278,] 19.96671 52.78987\n",
       "[279,] 19.96275 52.79246\n",
       "[280,] 19.96984 52.79841\n",
       "[281,] 19.96831 52.80094\n",
       "[282,] 19.97067 52.80810\n",
       "[283,] 19.97008 52.80972\n",
       "[284,] 19.97382 52.81164\n",
       "[285,] 19.97699 52.81007\n",
       "[286,] 19.98241 52.81223\n",
       "[287,] 19.98449 52.81146\n",
       "[288,] 19.98426 52.80942\n",
       "[289,] 19.98623 52.80928\n",
       "[290,] 19.98605 52.80788\n",
       "[291,] 19.99144 52.80887\n",
       "[292,] 19.99491 52.80860\n",
       "[293,] 19.99474 52.80732\n",
       "[294,] 19.99860 52.80767\n",
       "[295,] 19.99846 52.81297\n",
       "[296,] 20.00042 52.81739\n",
       "[297,] 19.99731 52.81770\n",
       "[298,] 19.99909 52.82385\n",
       "[299,] 20.00006 52.82346\n",
       "[300,] 20.00100 52.82565\n",
       "[301,] 19.99150 52.82800\n",
       "[302,] 19.99154 52.82966\n",
       "[303,] 19.99465 52.83202\n",
       "[304,] 19.99370 52.83212\n",
       "[305,] 19.99626 52.83680\n",
       "[306,] 19.99435 52.83663\n",
       "[307,] 19.99912 52.84804\n",
       "[308,] 19.99285 52.85013\n",
       "[309,] 19.99627 52.85034\n",
       "[310,] 19.99777 52.85373\n",
       "[311,] 20.00016 52.85407\n",
       "[312,] 20.01001 52.85109\n",
       "[313,] 20.01357 52.85154\n",
       "[314,] 20.01668 52.84886\n",
       "[315,] 20.01275 52.84542\n",
       "[316,] 20.01122 52.84006\n",
       "[317,] 20.01784 52.84225\n",
       "[318,] 20.02210 52.84189\n",
       "[319,] 20.02306 52.83823\n",
       "[320,] 20.01981 52.83833\n",
       "[321,] 20.01891 52.83561\n",
       "[322,] 20.02088 52.83216\n",
       "[323,] 20.02447 52.83229\n",
       "[324,] 20.02269 52.83143\n",
       "[325,] 20.02329 52.82425\n",
       "[326,] 20.01822 52.82353\n",
       "[327,] 20.02350 52.82000\n",
       "[328,] 20.02456 52.81988\n",
       "[329,] 20.02488 52.82348\n",
       "[330,] 20.02769 52.82428\n",
       "[331,] 20.03349 52.83288\n",
       "[332,] 20.04020 52.83398\n",
       "[333,] 20.04432 52.83657\n",
       "[334,] 20.05471 52.83200\n",
       "[335,] 20.05668 52.83332\n",
       "[336,] 20.06366 52.83222\n",
       "[337,] 20.06209 52.82901\n",
       "[338,] 20.06596 52.82765\n",
       "[339,] 20.07015 52.83366\n",
       "[340,] 20.08604 52.83597\n",
       "[341,] 20.10084 52.83271\n",
       "[342,] 20.11632 52.82703\n",
       "[343,] 20.12212 52.82755\n",
       "[344,] 20.12666 52.82607\n",
       "[345,] 20.13281 52.84049\n",
       "[346,] 20.14456 52.85141\n",
       "[347,] 20.12834 52.85537\n",
       "[348,] 20.13729 52.86249\n",
       "[349,] 20.14418 52.86395\n",
       "[350,] 20.14381 52.87353\n",
       "[351,] 20.13813 52.87556\n",
       "[352,] 20.14230 52.87799\n",
       "[353,] 20.14283 52.88330\n",
       "[354,] 20.14780 52.88616\n",
       "[355,] 20.15211 52.88821\n",
       "[356,] 20.16233 52.88706\n",
       "[357,] 20.17031 52.89648\n",
       "[358,] 20.17427 52.89524\n",
       "[359,] 20.17561 52.89674\n",
       "[360,] 20.17856 52.89538\n",
       "[361,] 20.18814 52.89551\n",
       "[362,] 20.19720 52.89133\n",
       "[363,] 20.19999 52.88848\n",
       "[364,] 20.20542 52.88775\n",
       "[365,] 20.21810 52.88993\n",
       "[366,] 20.22178 52.88753\n",
       "[367,] 20.22089 52.88022\n",
       "[368,] 20.22354 52.87658\n",
       "[369,] 20.24202 52.87322\n",
       "[370,] 20.24970 52.87331\n",
       "[371,] 20.24814 52.87138\n",
       "[372,] 20.24951 52.87123\n",
       "[373,] 20.24933 52.86998\n",
       "[374,] 20.24775 52.87007\n",
       "[375,] 20.24803 52.86880\n",
       "[376,] 20.24110 52.85962\n",
       "[377,] 20.23765 52.85942\n",
       "[378,] 20.23552 52.85595\n",
       "[379,] 20.24176 52.85624\n",
       "[380,] 20.24479 52.85416\n",
       "[381,] 20.26148 52.85005\n",
       "[382,] 20.26433 52.84750\n",
       "[383,] 20.25495 52.83977\n",
       "[384,] 20.25229 52.84106\n",
       "[385,] 20.24015 52.83083\n",
       "[386,] 20.21472 52.82357\n",
       "[387,] 20.21423 52.82047\n",
       "[388,] 20.21640 52.81828\n",
       "[389,] 20.21678 52.81376\n",
       "[390,] 20.21194 52.81012\n",
       "[391,] 20.21656 52.80031\n",
       "[392,] 20.21594 52.79681\n",
       "[393,] 20.21847 52.79472\n",
       "[394,] 20.23858 52.78590\n",
       "[395,] 20.24552 52.78126\n",
       "[396,] 20.26401 52.77728\n",
       "[397,] 20.29520 52.78533\n",
       "[398,] 20.29682 52.78766\n",
       "[399,] 20.29905 52.78793\n",
       "[400,] 20.30215 52.78743\n",
       "[401,] 20.30064 52.78678\n",
       "[402,] 20.30132 52.78484\n",
       "[403,] 20.30339 52.78580\n",
       "[404,] 20.30461 52.78534\n",
       "[405,] 20.30394 52.78437\n",
       "[406,] 20.30607 52.78430\n",
       "[407,] 20.30399 52.78241\n",
       "[408,] 20.30684 52.78185\n",
       "[409,] 20.30503 52.78135\n",
       "[410,] 20.30617 52.77975\n",
       "[411,] 20.30952 52.77917\n",
       "[412,] 20.30938 52.77666\n",
       "[413,] 20.31813 52.77324\n",
       "[414,] 20.31599 52.77239\n",
       "[415,] 20.31794 52.77061\n",
       "[416,] 20.31406 52.77061\n",
       "[417,] 20.31525 52.76889\n",
       "[418,] 20.32561 52.76763\n",
       "[419,] 20.33532 52.76968\n",
       "[420,] 20.33911 52.77248\n",
       "[421,] 20.34384 52.77233\n",
       "[422,] 20.34744 52.77509\n",
       "[423,] 20.34673 52.77383\n",
       "[424,] 20.35051 52.77212\n",
       "[425,] 20.35063 52.76998\n",
       "[426,] 20.35456 52.76925\n",
       "[427,] 20.35052 52.76793\n",
       "[428,] 20.35157 52.76650\n",
       "[429,] 20.35001 52.76622\n",
       "[430,] 20.35068 52.76477\n",
       "[431,] 20.34793 52.76244\n",
       "[432,] 20.35069 52.76069\n",
       "[433,] 20.34684 52.75994\n",
       "[434,] 20.35113 52.75836\n",
       "[435,] 20.34967 52.75782\n",
       "[436,] 20.35530 52.75693\n",
       "[437,] 20.35631 52.75579\n",
       "[438,] 20.35506 52.75537\n",
       "[439,] 20.35806 52.75536\n",
       "[440,] 20.36047 52.75189\n",
       "[441,] 20.36540 52.75083\n",
       "[442,] 20.36668 52.74905\n",
       "[443,] 20.37105 52.74843\n",
       "[444,] 20.37174 52.74919\n",
       "[445,] 20.37053 52.74977\n",
       "[446,] 20.37191 52.75066\n",
       "[447,] 20.37215 52.74950\n",
       "[448,] 20.37474 52.75010\n",
       "[449,] 20.37767 52.74776\n",
       "[450,] 20.38689 52.74802\n",
       "[451,] 20.38476 52.74897\n",
       "[452,] 20.38647 52.74958\n",
       "[453,] 20.39120 52.74755\n",
       "[454,] 20.39303 52.74801\n",
       "[455,] 20.39144 52.74931\n",
       "[456,] 20.39503 52.74824\n",
       "[457,] 20.39396 52.74748\n",
       "[458,] 20.39545 52.74688\n",
       "[459,] 20.39221 52.74440\n",
       "[460,] 20.38737 52.74308\n",
       "[461,] 20.38508 52.74403\n",
       "[462,] 20.38570 52.74037\n",
       "[463,] 20.38173 52.73856\n",
       "[464,] 20.38218 52.73699\n",
       "[465,] 20.38811 52.73388\n",
       "\n",
       "\n",
       "\n",
       "Slot \"plotOrder\":\n",
       "[1] 1\n",
       "\n",
       "Slot \"labpt\":\n",
       "[1] 20.35444 52.62754\n",
       "\n",
       "Slot \"ID\":\n",
       "[1] \"351\"\n",
       "\n",
       "Slot \"area\":\n",
       "[1] 0.1831217\n",
       "\n",
       "\n",
       "\n",
       "Slot \"plotOrder\":\n",
       "[1] 1\n",
       "\n",
       "Slot \"bbox\":\n",
       "       min      max\n",
       "x 19.96275 20.73146\n",
       "y 52.38114 52.89674\n",
       "\n",
       "Slot \"proj4string\":\n",
       "CRS arguments:\n",
       " +proj=longlat +ellps=WGS84 +datum=WGS84 +no_defs +towgs84=0,0,0 \n"
      ]
     },
     "metadata": {},
     "output_type": "display_data"
    }
   ],
   "source": [
    "selectedRegion"
   ]
  },
  {
   "cell_type": "code",
   "execution_count": 58,
   "metadata": {},
   "outputs": [
    {
     "data": {
      "text/html": [
       "1"
      ],
      "text/latex": [
       "1"
      ],
      "text/markdown": [
       "1"
      ],
      "text/plain": [
       "[1] 1"
      ]
     },
     "metadata": {},
     "output_type": "display_data"
    }
   ],
   "source": [
    "length(selectedRegion@polygons)"
   ]
  },
  {
   "cell_type": "code",
   "execution_count": null,
   "metadata": {},
   "outputs": [],
   "source": []
  },
  {
   "cell_type": "code",
   "execution_count": null,
   "metadata": {},
   "outputs": [],
   "source": []
  },
  {
   "cell_type": "code",
   "execution_count": null,
   "metadata": {},
   "outputs": [],
   "source": []
  },
  {
   "cell_type": "code",
   "execution_count": null,
   "metadata": {},
   "outputs": [],
   "source": []
  },
  {
   "cell_type": "code",
   "execution_count": null,
   "metadata": {},
   "outputs": [],
   "source": []
  },
  {
   "cell_type": "code",
   "execution_count": null,
   "metadata": {},
   "outputs": [],
   "source": []
  },
  {
   "cell_type": "code",
   "execution_count": null,
   "metadata": {},
   "outputs": [],
   "source": []
  }
 ],
 "metadata": {
  "kernelspec": {
   "display_name": "R",
   "language": "R",
   "name": "ir"
  }
 },
 "nbformat": 4,
 "nbformat_minor": 1
}
