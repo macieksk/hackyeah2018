{
 "cells": [
  {
   "cell_type": "code",
   "execution_count": 1,
   "metadata": {},
   "outputs": [
    {
     "data": {
      "text/html": [
       "'R version 3.4.2 (2017-09-28)'"
      ],
      "text/latex": [
       "'R version 3.4.2 (2017-09-28)'"
      ],
      "text/markdown": [
       "'R version 3.4.2 (2017-09-28)'"
      ],
      "text/plain": [
       "[1] \"R version 3.4.2 (2017-09-28)\""
      ]
     },
     "metadata": {},
     "output_type": "display_data"
    },
    {
     "name": "stdout",
     "output_type": "stream",
     "text": [
      "[1] \"email: 'Maciek Sykulski'<macieksk@gmail.com>\"\n"
     ]
    },
    {
     "data": {
      "text/html": [
       "0"
      ],
      "text/latex": [
       "0"
      ],
      "text/markdown": [
       "0"
      ],
      "text/plain": [
       "[1] 0"
      ]
     },
     "metadata": {},
     "output_type": "display_data"
    },
    {
     "data": {
      "text/html": [
       "'/home/hackyeah/hackyeah2018'"
      ],
      "text/latex": [
       "'/home/hackyeah/hackyeah2018'"
      ],
      "text/markdown": [
       "'/home/hackyeah/hackyeah2018'"
      ],
      "text/plain": [
       "[1] \"/home/hackyeah/hackyeah2018\""
      ]
     },
     "metadata": {},
     "output_type": "display_data"
    }
   ],
   "source": [
    "R.version.string\n",
    "print(\"email: 'Maciek Sykulski'<macieksk@gmail.com>\")\n",
    "length(ls())\n",
    "getwd()"
   ]
  },
  {
   "cell_type": "code",
   "execution_count": 4,
   "metadata": {},
   "outputs": [],
   "source": [
    "projDir<-\"/home/hackyeah/hackyeah2018\"\n",
    "projectPrefix<-\"R_Shiny_runApp\"\n",
    "\n",
    "#\n",
    "load.sources<-function(){\n",
    "    for (f in  c(\"utils.R\" #Contains inpar, save_new_image, etc\n",
    "                 #...  \n",
    "                 ) \n",
    "        ){\n",
    "    source(paste(projDir,\"/src/\",f,sep=\"\"))\n",
    "   }\n",
    "}\n",
    "load.sources()"
   ]
  },
  {
   "cell_type": "code",
   "execution_count": 3,
   "metadata": {},
   "outputs": [
    {
     "data": {
      "text/html": [
       "<table>\n",
       "<thead><tr><th></th><th scope=col>Type</th><th scope=col>Size</th><th scope=col>Rows</th><th scope=col>Columns</th></tr></thead>\n",
       "<tbody>\n",
       "\t<tr><th scope=row>load.sources</th><td>function</td><td>24384   </td><td>NA      </td><td>NA      </td></tr>\n",
       "\t<tr><th scope=row>cpar</th><td>function</td><td> 8904   </td><td>NA      </td><td>NA      </td></tr>\n",
       "\t<tr><th scope=row>read.table.into.db</th><td>function</td><td> 7184   </td><td>NA      </td><td>NA      </td></tr>\n",
       "\t<tr><th scope=row>db.info</th><td>function</td><td> 6200   </td><td>NA      </td><td>NA      </td></tr>\n",
       "\t<tr><th scope=row>safe_command_run</th><td>function</td><td> 5488   </td><td>NA      </td><td>NA      </td></tr>\n",
       "\t<tr><th scope=row>multiloop</th><td>function</td><td> 5376   </td><td>NA      </td><td>NA      </td></tr>\n",
       "\t<tr><th scope=row>postscript.call</th><td>function</td><td> 4856   </td><td>NA      </td><td>NA      </td></tr>\n",
       "\t<tr><th scope=row>add.records.to.table</th><td>function</td><td> 4704   </td><td>NA      </td><td>NA      </td></tr>\n",
       "\t<tr><th scope=row>save_new_image</th><td>function</td><td> 4544   </td><td>NA      </td><td>NA      </td></tr>\n",
       "\t<tr><th scope=row>pdf.call</th><td>function</td><td> 4528   </td><td>NA      </td><td>NA      </td></tr>\n",
       "</tbody>\n",
       "</table>\n"
      ],
      "text/latex": [
       "\\begin{tabular}{r|llll}\n",
       "  & Type & Size & Rows & Columns\\\\\n",
       "\\hline\n",
       "\tload.sources & function & 24384    & NA       & NA      \\\\\n",
       "\tcpar & function &  8904    & NA       & NA      \\\\\n",
       "\tread.table.into.db & function &  7184    & NA       & NA      \\\\\n",
       "\tdb.info & function &  6200    & NA       & NA      \\\\\n",
       "\tsafe\\_command\\_run & function &  5488    & NA       & NA      \\\\\n",
       "\tmultiloop & function &  5376    & NA       & NA      \\\\\n",
       "\tpostscript.call & function &  4856    & NA       & NA      \\\\\n",
       "\tadd.records.to.table & function &  4704    & NA       & NA      \\\\\n",
       "\tsave\\_new\\_image & function &  4544    & NA       & NA      \\\\\n",
       "\tpdf.call & function &  4528    & NA       & NA      \\\\\n",
       "\\end{tabular}\n"
      ],
      "text/markdown": [
       "\n",
       "| <!--/--> | Type | Size | Rows | Columns | \n",
       "|---|---|---|---|---|---|---|---|---|---|\n",
       "| load.sources | function | 24384    | NA       | NA       | \n",
       "| cpar | function |  8904    | NA       | NA       | \n",
       "| read.table.into.db | function |  7184    | NA       | NA       | \n",
       "| db.info | function |  6200    | NA       | NA       | \n",
       "| safe_command_run | function |  5488    | NA       | NA       | \n",
       "| multiloop | function |  5376    | NA       | NA       | \n",
       "| postscript.call | function |  4856    | NA       | NA       | \n",
       "| add.records.to.table | function |  4704    | NA       | NA       | \n",
       "| save_new_image | function |  4544    | NA       | NA       | \n",
       "| pdf.call | function |  4528    | NA       | NA       | \n",
       "\n",
       "\n"
      ],
      "text/plain": [
       "                     Type     Size  Rows Columns\n",
       "load.sources         function 24384 NA   NA     \n",
       "cpar                 function  8904 NA   NA     \n",
       "read.table.into.db   function  7184 NA   NA     \n",
       "db.info              function  6200 NA   NA     \n",
       "safe_command_run     function  5488 NA   NA     \n",
       "multiloop            function  5376 NA   NA     \n",
       "postscript.call      function  4856 NA   NA     \n",
       "add.records.to.table function  4704 NA   NA     \n",
       "save_new_image       function  4544 NA   NA     \n",
       "pdf.call             function  4528 NA   NA     "
      ]
     },
     "metadata": {},
     "output_type": "display_data"
    },
    {
     "data": {
      "text/html": [
       "<table>\n",
       "<thead><tr><th></th><th scope=col>used</th><th scope=col>(Mb)</th><th scope=col>gc trigger</th><th scope=col>(Mb)</th><th scope=col>max used</th><th scope=col>(Mb)</th></tr></thead>\n",
       "<tbody>\n",
       "\t<tr><th scope=row>Ncells</th><td> 649084</td><td>34.7   </td><td>1168576</td><td>62.5   </td><td> 940480</td><td>50.3   </td></tr>\n",
       "\t<tr><th scope=row>Vcells</th><td>1108616</td><td> 8.5   </td><td>1916127</td><td>14.7   </td><td>1425439</td><td>10.9   </td></tr>\n",
       "</tbody>\n",
       "</table>\n"
      ],
      "text/latex": [
       "\\begin{tabular}{r|llllll}\n",
       "  & used & (Mb) & gc trigger & (Mb) & max used & (Mb)\\\\\n",
       "\\hline\n",
       "\tNcells &  649084 & 34.7    & 1168576 & 62.5    &  940480 & 50.3   \\\\\n",
       "\tVcells & 1108616 &  8.5    & 1916127 & 14.7    & 1425439 & 10.9   \\\\\n",
       "\\end{tabular}\n"
      ],
      "text/markdown": [
       "\n",
       "| <!--/--> | used | (Mb) | gc trigger | (Mb) | max used | (Mb) | \n",
       "|---|---|\n",
       "| Ncells |  649084 | 34.7    | 1168576 | 62.5    |  940480 | 50.3    | \n",
       "| Vcells | 1108616 |  8.5    | 1916127 | 14.7    | 1425439 | 10.9    | \n",
       "\n",
       "\n"
      ],
      "text/plain": [
       "       used    (Mb) gc trigger (Mb) max used (Mb)\n",
       "Ncells  649084 34.7 1168576    62.5  940480  50.3\n",
       "Vcells 1108616  8.5 1916127    14.7 1425439  10.9"
      ]
     },
     "metadata": {},
     "output_type": "display_data"
    }
   ],
   "source": [
    "#system.time(load(paste(projDir,\"/r_saved_images/\",projectPrefix,\".Rdata\",sep=\"\")))\n",
    "lsos()\n",
    "gc()"
   ]
  },
  {
   "cell_type": "code",
   "execution_count": 5,
   "metadata": {},
   "outputs": [
    {
     "data": {
      "text/html": [
       "<table>\n",
       "<thead><tr><th></th><th scope=col>used</th><th scope=col>(Mb)</th><th scope=col>gc trigger</th><th scope=col>(Mb)</th><th scope=col>max used</th><th scope=col>(Mb)</th></tr></thead>\n",
       "<tbody>\n",
       "\t<tr><th scope=row>Ncells</th><td> 644071</td><td>34.4   </td><td>1168576</td><td>62.5   </td><td> 940480</td><td>50.3   </td></tr>\n",
       "\t<tr><th scope=row>Vcells</th><td>1097677</td><td> 8.4   </td><td>1916127</td><td>14.7   </td><td>1410773</td><td>10.8   </td></tr>\n",
       "</tbody>\n",
       "</table>\n"
      ],
      "text/latex": [
       "\\begin{tabular}{r|llllll}\n",
       "  & used & (Mb) & gc trigger & (Mb) & max used & (Mb)\\\\\n",
       "\\hline\n",
       "\tNcells &  644071 & 34.4    & 1168576 & 62.5    &  940480 & 50.3   \\\\\n",
       "\tVcells & 1097677 &  8.4    & 1916127 & 14.7    & 1410773 & 10.8   \\\\\n",
       "\\end{tabular}\n"
      ],
      "text/markdown": [
       "\n",
       "| <!--/--> | used | (Mb) | gc trigger | (Mb) | max used | (Mb) | \n",
       "|---|---|\n",
       "| Ncells |  644071 | 34.4    | 1168576 | 62.5    |  940480 | 50.3    | \n",
       "| Vcells | 1097677 |  8.4    | 1916127 | 14.7    | 1410773 | 10.8    | \n",
       "\n",
       "\n"
      ],
      "text/plain": [
       "       used    (Mb) gc trigger (Mb) max used (Mb)\n",
       "Ncells  644071 34.4 1168576    62.5  940480  50.3\n",
       "Vcells 1097677  8.4 1916127    14.7 1410773  10.8"
      ]
     },
     "metadata": {},
     "output_type": "display_data"
    },
    {
     "name": "stdout",
     "output_type": "stream",
     "text": [
      "[1] \"/home/hackyeah/hackyeah2018/r_saved_images/R_Shiny_runApp_2018-11-25_00_16_02.Rdata\"\n"
     ]
    },
    {
     "data": {
      "text/plain": [
       "   user  system elapsed \n",
       "  0.008   0.000   0.009 "
      ]
     },
     "metadata": {},
     "output_type": "display_data"
    }
   ],
   "source": [
    "gc()\n",
    "#system.time(save_new_image())"
   ]
  },
  {
   "cell_type": "code",
   "execution_count": 6,
   "metadata": {},
   "outputs": [
    {
     "data": {
      "text/plain": [
       "R version 3.4.2 (2017-09-28)\n",
       "Platform: x86_64-pc-linux-gnu (64-bit)\n",
       "Running under: Debian GNU/Linux buster/sid\n",
       "\n",
       "Matrix products: default\n",
       "BLAS: /usr/lib/x86_64-linux-gnu/openblas/libblas.so.3\n",
       "LAPACK: /usr/lib/x86_64-linux-gnu/libopenblasp-r0.2.20.so\n",
       "\n",
       "locale:\n",
       "[1] C\n",
       "\n",
       "attached base packages:\n",
       "[1] parallel  stats     graphics  grDevices utils     datasets  methods  \n",
       "[8] base     \n",
       "\n",
       "other attached packages:\n",
       " [1] rPython_0.0-6       RJSONIO_1.3-1.1     shiny_1.2.0        \n",
       " [4] matrixStats_0.52.2  reshape_0.8.8       MASS_7.3-47        \n",
       " [7] cluster_2.0.6       gplots_3.0.1        ggplot2_2.2.1      \n",
       "[10] latticeExtra_0.6-28 RColorBrewer_1.1-2  lattice_0.20-35    \n",
       "[13] sqldf_0.4-11        RSQLite_2.0         gsubfn_0.6-6       \n",
       "[16] proto_1.0.0         fastmatch_1.1-0     hash_2.2.6         \n",
       "\n",
       "loaded via a namespace (and not attached):\n",
       " [1] Rcpp_1.0.0           gtools_3.5.0         digest_0.6.12       \n",
       " [4] mime_0.5             IRdisplay_0.4.4      R6_2.2.2            \n",
       " [7] plyr_1.8.4           chron_2.3-51         repr_0.12.0         \n",
       "[10] evaluate_0.10.1      pillar_1.3.0         rlang_0.3.0.1       \n",
       "[13] lazyeval_0.2.1       uuid_0.1-2           gdata_2.18.0        \n",
       "[16] blob_1.1.0           stringr_1.2.0        bit_1.1-12          \n",
       "[19] munsell_0.5.0        compiler_3.4.2       httpuv_1.4.5        \n",
       "[22] htmltools_0.3.6      tcltk_3.4.2          tibble_1.4.2        \n",
       "[25] crayon_1.3.4         later_0.7.5          bitops_1.0-6        \n",
       "[28] grid_3.4.2           jsonlite_1.5         xtable_1.8-3        \n",
       "[31] gtable_0.2.0         DBI_0.7              magrittr_1.5        \n",
       "[34] scales_1.0.0         KernSmooth_2.23-15   stringi_1.1.6       \n",
       "[37] promises_1.0.1       IRkernel_0.8.12.9000 tools_3.4.2         \n",
       "[40] bit64_0.9-7          colorspace_1.3-2     caTools_1.17.1      \n",
       "[43] memoise_1.1.0        pbdZMQ_0.2-6        "
      ]
     },
     "metadata": {},
     "output_type": "display_data"
    }
   ],
   "source": [
    "library(lattice)\n",
    "library(latticeExtra)\n",
    "library(ggplot2)\n",
    "library(gplots)\n",
    "#library(png)\n",
    "\n",
    "#library(Hmisc)\n",
    "library(cluster)\n",
    "library(MASS)\n",
    "library(reshape)\n",
    "\n",
    "#library(lumi)\n",
    "#library(lumiHumanIDMapping)\n",
    "#library(lumiHumanAll.db)\n",
    "#library(limma)\n",
    "\n",
    "#library(annotate)\n",
    "#library(GOstats)\n",
    "\n",
    "#library(multtest)\n",
    "library(matrixStats)\n",
    "#library(extrafont)\n",
    "#library(enrichvs)\n",
    "#library(statmod)\n",
    "#library(flexmix)\n",
    "\n",
    "\n",
    "library(shiny)\n",
    "library(rPython)\n",
    "\n",
    "load.sources()\n",
    "\n",
    "sessionInfo()"
   ]
  },
  {
   "cell_type": "code",
   "execution_count": 12,
   "metadata": {},
   "outputs": [
    {
     "data": {
      "text/html": [
       "'/home/hackyeah/hackyeah2018/shiny-examples/063-superzip-example'"
      ],
      "text/latex": [
       "'/home/hackyeah/hackyeah2018/shiny-examples/063-superzip-example'"
      ],
      "text/markdown": [
       "'/home/hackyeah/hackyeah2018/shiny-examples/063-superzip-example'"
      ],
      "text/plain": [
       "[1] \"/home/hackyeah/hackyeah2018/shiny-examples/063-superzip-example\""
      ]
     },
     "metadata": {},
     "output_type": "display_data"
    }
   ],
   "source": [
    "getwd()"
   ]
  },
  {
   "cell_type": "code",
   "execution_count": null,
   "metadata": {},
   "outputs": [
    {
     "name": "stderr",
     "output_type": "stream",
     "text": [
      "\n",
      "Attaching package: 'dplyr'\n",
      "\n",
      "The following object is masked from 'package:matrixStats':\n",
      "\n",
      "    count\n",
      "\n",
      "The following object is masked from 'package:reshape':\n",
      "\n",
      "    rename\n",
      "\n",
      "The following object is masked from 'package:MASS':\n",
      "\n",
      "    select\n",
      "\n",
      "The following object is masked from 'package:fastmatch':\n",
      "\n",
      "    coalesce\n",
      "\n",
      "The following objects are masked from 'package:stats':\n",
      "\n",
      "    filter, lag\n",
      "\n",
      "The following objects are masked from 'package:base':\n",
      "\n",
      "    intersect, setdiff, setequal, union\n",
      "\n",
      "\n",
      "Listening on http://127.0.0.1:23401\n"
     ]
    },
    {
     "name": "stdout",
     "output_type": "stream",
     "text": [
      "[1] \"lat  52.2858384736715  lon  19.4912383672112\"\n",
      "[1] \"lat  52.2858384736715  lon  19.4912383672112\"\n",
      "[1] \"lat  52.2051192255939  lon  19.6450309460094\"\n",
      "[1] \"lat  52.2051192255939  lon  19.6450309460094\"\n",
      "[1] \"lat  52.1625798875342  lon  20.4242408949453\"\n",
      "[1] \"lat  51.9734829452168  lon  20.8526630787402\"\n",
      "[1] \"lat  52.2501028465804  lon  18.8863151069638\"\n",
      "[1] \"lat  52.4380286950598  lon  16.5025301355926\"\n",
      "[1] \"lat  53.5488740336483  lon  17.9415892657752\"\n",
      "[1] \"lat  52.2702759742951  lon  20.446211263345\"\n",
      "[1] \"lat  52.2433764313182  lon  21.3140408151346\"\n",
      "[1] \"lat  52.2097290570434  lon  20.9515297365389\"\n"
     ]
    }
   ],
   "source": [
    "setwd(paste0(projDir,\"/shiny-examples/063-superzip-example/\"))\n",
    "\n",
    "#ui = bootstrapPage(\n",
    "#  sliderInput('x', 'Set x', 0, 10, 5),\n",
    "#  verbatimTextOutput('out1')\n",
    "#)\n",
    "#rm(ui)\n",
    "\n",
    "#server = function(input, output, session){\n",
    "#  output$out1 <- renderPrint({\n",
    "#    python.call(\"len\", 1:input$x)\n",
    "#  })\n",
    "#}\n",
    "#rm(server)\n",
    "\n",
    "library(shiny)\n",
    "#library(rPython)\n",
    "\n",
    "\n",
    "runApp(port = 23401)"
   ]
  },
  {
   "cell_type": "code",
   "execution_count": null,
   "metadata": {},
   "outputs": [],
   "source": []
  },
  {
   "cell_type": "code",
   "execution_count": null,
   "metadata": {},
   "outputs": [],
   "source": []
  },
  {
   "cell_type": "code",
   "execution_count": null,
   "metadata": {},
   "outputs": [],
   "source": []
  },
  {
   "cell_type": "code",
   "execution_count": null,
   "metadata": {},
   "outputs": [],
   "source": []
  },
  {
   "cell_type": "code",
   "execution_count": null,
   "metadata": {},
   "outputs": [],
   "source": []
  },
  {
   "cell_type": "code",
   "execution_count": null,
   "metadata": {},
   "outputs": [],
   "source": []
  },
  {
   "cell_type": "code",
   "execution_count": null,
   "metadata": {},
   "outputs": [],
   "source": []
  },
  {
   "cell_type": "code",
   "execution_count": null,
   "metadata": {},
   "outputs": [],
   "source": []
  },
  {
   "cell_type": "code",
   "execution_count": null,
   "metadata": {},
   "outputs": [],
   "source": []
  },
  {
   "cell_type": "code",
   "execution_count": null,
   "metadata": {},
   "outputs": [],
   "source": []
  }
 ],
 "metadata": {
  "kernelspec": {
   "display_name": "R",
   "language": "R",
   "name": "ir"
  },
  "language_info": {
   "codemirror_mode": "r",
   "file_extension": ".r",
   "mimetype": "text/x-r-source",
   "name": "R",
   "pygments_lexer": "r",
   "version": "3.4.2"
  }
 },
 "nbformat": 4,
 "nbformat_minor": 1
}
