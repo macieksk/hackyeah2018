{
 "cells": [
  {
   "cell_type": "code",
   "execution_count": 6,
   "metadata": {},
   "outputs": [
    {
     "name": "stdout",
     "output_type": "stream",
     "text": [
      "The rpy2.ipython extension is already loaded. To reload it, use:\n",
      "  %reload_ext rpy2.ipython\n"
     ]
    }
   ],
   "source": [
    "%load_ext rpy2.ipython\n",
    "#https://gist.github.com/simecek/019d87c55fec3839d95bbf8489dde61d\n",
    "from jupyter_pexpect_bash_console import pexpect_bash,pexpect_sudo_bash,pexpect_ssh_sudo_bash"
   ]
  },
  {
   "cell_type": "code",
   "execution_count": 7,
   "metadata": {},
   "outputs": [
    {
     "data": {
      "text/plain": [
       "[1] \"email: 'Maciek Sykulski'<macieksk@gmail.com>\"\n",
       "[1] \"/home/hackyeah/hackyeah2018\"\n"
      ]
     },
     "metadata": {},
     "output_type": "display_data"
    }
   ],
   "source": [
    "%%R\n",
    "R.version.string\n",
    "print(\"email: 'Maciek Sykulski'<macieksk@gmail.com>\")\n",
    "length(ls())\n",
    "getwd()"
   ]
  },
  {
   "cell_type": "code",
   "execution_count": 8,
   "metadata": {},
   "outputs": [],
   "source": [
    "%%R\n",
    "projDir<-\"/home/hackyeah/hackyeah2018\"\n",
    "projectPrefix<-\"R_airQuality\"\n",
    "\n",
    "#\n",
    "load.sources<-function(){\n",
    "    for (f in  c(\"utils.R\" #Contains inpar, save_new_image, etc\n",
    "                 #...  \n",
    "                 ) \n",
    "        ){\n",
    "    source(paste(projDir,\"/src/\",f,sep=\"\"))\n",
    "   }\n",
    "}\n",
    "load.sources()"
   ]
  },
  {
   "cell_type": "code",
   "execution_count": 9,
   "metadata": {},
   "outputs": [
    {
     "data": {
      "text/plain": [
       "          used (Mb) gc trigger (Mb) max used (Mb)\n",
       "Ncells  554569 29.7     940480 50.3   750400 40.1\n",
       "Vcells 1013386  7.8    1699674 13.0  1348735 10.3\n"
      ]
     },
     "metadata": {},
     "output_type": "display_data"
    }
   ],
   "source": [
    "%%R\n",
    "#system.time(load(paste(projDir,\"/r_saved_images/\",projectPrefix,\".Rdata\",sep=\"\")))\n",
    "lsos()\n",
    "gc()"
   ]
  },
  {
   "cell_type": "code",
   "execution_count": 10,
   "metadata": {},
   "outputs": [
    {
     "data": {
      "text/plain": [
       "          used (Mb) gc trigger (Mb) max used (Mb)\n",
       "Ncells  554113 29.6     940480 50.3   750400 40.1\n",
       "Vcells 1013011  7.8    1699674 13.0  1348735 10.3\n"
      ]
     },
     "metadata": {},
     "output_type": "display_data"
    }
   ],
   "source": [
    "%%R\n",
    "gc()\n",
    "#system.time(save_new_image())"
   ]
  },
  {
   "cell_type": "code",
   "execution_count": 12,
   "metadata": {},
   "outputs": [
    {
     "data": {
      "text/plain": [
       "R version 3.4.2 (2017-09-28)\n",
       "Platform: x86_64-pc-linux-gnu (64-bit)\n",
       "Running under: Debian GNU/Linux buster/sid\n",
       "\n",
       "Matrix products: default\n",
       "BLAS: /usr/lib/x86_64-linux-gnu/openblas/libblas.so.3\n",
       "LAPACK: /usr/lib/x86_64-linux-gnu/libopenblasp-r0.2.20.so\n",
       "\n",
       "locale:\n",
       "[1] C\n",
       "\n",
       "attached base packages:\n",
       "[1] parallel  tools     stats     graphics  grDevices utils     datasets \n",
       "[8] methods   base     \n",
       "\n",
       "other attached packages:\n",
       " [1] matrixStats_0.52.2  reshape_0.8.7       MASS_7.3-47        \n",
       " [4] cluster_2.0.6       gplots_3.0.1        ggplot2_2.2.1      \n",
       " [7] latticeExtra_0.6-28 RColorBrewer_1.1-2  lattice_0.20-35    \n",
       "[10] sqldf_0.4-11        RSQLite_2.0         gsubfn_0.6-6       \n",
       "[13] proto_1.0.0         fastmatch_1.1-0     hash_2.2.6         \n",
       "\n",
       "loaded via a namespace (and not attached):\n",
       " [1] Rcpp_0.12.13       bit_1.1-12         munsell_0.4.3      colorspace_1.3-2  \n",
       " [5] rlang_0.1.4        plyr_1.8.4         blob_1.1.0         caTools_1.17.1    \n",
       " [9] tcltk_3.4.2        grid_3.4.2         gtable_0.2.0       KernSmooth_2.23-15\n",
       "[13] DBI_0.7            gtools_3.5.0       lazyeval_0.2.1     bit64_0.9-7       \n",
       "[17] digest_0.6.12      tibble_1.3.4       bitops_1.0-6       memoise_1.1.0     \n",
       "[21] gdata_2.18.0       compiler_3.4.2     scales_0.5.0       chron_2.3-51      \n"
      ]
     },
     "metadata": {},
     "output_type": "display_data"
    }
   ],
   "source": [
    "%%R\n",
    "library(lattice)\n",
    "library(latticeExtra)\n",
    "library(ggplot2)\n",
    "library(gplots)\n",
    "#library(png)\n",
    "\n",
    "#library(Hmisc)\n",
    "library(cluster)\n",
    "library(MASS)\n",
    "library(reshape)\n",
    "\n",
    "#library(lumi)\n",
    "#library(lumiHumanIDMapping)\n",
    "#library(lumiHumanAll.db)\n",
    "#library(limma)\n",
    "\n",
    "#library(annotate)\n",
    "#library(GOstats)\n",
    "\n",
    "#library(multtest)\n",
    "library(matrixStats)\n",
    "#library(extrafont)\n",
    "#library(enrichvs)\n",
    "#library(statmod)\n",
    "#library(flexmix)\n",
    "\n",
    "load.sources()\n",
    "\n",
    "sessionInfo()"
   ]
  },
  {
   "cell_type": "code",
   "execution_count": 14,
   "metadata": {},
   "outputs": [],
   "source": [
    "%%R \n",
    "#https://cran.r-project.org/mirrors.html\n",
    "\n",
    "#install.packages(c(\"reshape\"), #c('repr', 'IRdisplay', 'evaluate', 'crayon', 'pbdZMQ', 'devtools', 'uuid', 'digest'),\n",
    "#                 repos=\"https://mirror.ibcp.fr/pub/CRAN/\")\n",
    "\n",
    "#repos='https://cran.us.r-project.org')\n",
    "library(reshape)"
   ]
  },
  {
   "cell_type": "code",
   "execution_count": null,
   "metadata": {},
   "outputs": [],
   "source": []
  },
  {
   "cell_type": "code",
   "execution_count": null,
   "metadata": {},
   "outputs": [],
   "source": []
  },
  {
   "cell_type": "code",
   "execution_count": 15,
   "metadata": {},
   "outputs": [],
   "source": [
    "import json\n",
    "import codecs\n",
    "import urllib.request as urllib2\n",
    "import sys\n",
    "from math import sin, cos, sqrt, atan2, radians\n",
    "reader = codecs.getreader(\"utf-8\")\n",
    "\n",
    "allStationsUrl=\"http://api.gios.gov.pl/pjp-api/rest/station/findAll\"\n",
    "getIndexUrl=\"http://api.gios.gov.pl/pjp-api/rest/aqindex/getIndex/\"\n",
    "\n",
    "def api(url,urlSuffix=\"\"):\n",
    "    data = json.load(reader(urllib2.urlopen(\"{0}{1}\".format(url,urlSuffix))))\n",
    "    return data\n",
    "\n",
    "def getAllStationsAirQual():\n",
    "    allStations=api(allStationsUrl)\n",
    "    for station in allStations:\n",
    "        airQual=api(getIndexUrl,station[\"id\"])\n",
    "        print(\"Stacja {}:\\t{}\".format(station[\"stationName\"],airQual[\"stIndexLevel\"][\"indexLevelName\"]))\n",
    "\n",
    "def getDistance(x1,y1,x2,y2):\n",
    "    R = 6373.0\n",
    "    lat1 = radians(float(x1))\n",
    "    lon1 = radians(float(y1))\n",
    "    lat2 = radians(float(x2))\n",
    "    lon2 = radians(float(y2))\n",
    "    dlon = lon2 - lon1\n",
    "    dlat = lat2 - lat1\n",
    "    a = sin(dlat / 2)**2 + cos(lat1) * cos(lat2) * sin(dlon / 2)**2\n",
    "    c = 2 * atan2(sqrt(a), sqrt(1 - a))\n",
    "    distance = R*c\n",
    "    return distance\n",
    "\n",
    "def getDistanceDict(userX,userY):\n",
    "    allStations=api(allStationsUrl)\n",
    "    distanceDict=dict()\n",
    "    for station in allStations:\n",
    "        distance=getDistance(userX,userY,station[\"gegrLat\"],station[\"gegrLon\"])\n",
    "        if int(distance) not in distanceDict:\n",
    "            distanceDict[int(distance)]=[]\n",
    "        distanceDict[int(distance)].append([station[\"id\"],station[\"stationName\"]])\n",
    "    return distanceDict\n",
    "\n",
    "def getNearestIndexLevel(userX,userY):\n",
    "    distanceDict=getDistanceDict(userX,userY)\n",
    "    indexLevel=\"Brak indeksu\"\n",
    "    indexLevelId=\"Brak id\"\n",
    "    stationName=\"---\"\n",
    "    for dist in sorted(distanceDict.keys(),reverse=False):\n",
    "        for station in distanceDict[dist]:\n",
    "            obj=api(getIndexUrl, station[0])\n",
    "            indexLevel=obj[\"stIndexLevel\"][\"indexLevelName\"]\n",
    "            indexLevelId=obj[\"stIndexLevel\"][\"id\"]\n",
    "            stationName=station[1]\n",
    "            #print(\"Tmp:{3} {0} {1} {2}\".format(stationName,indexLevel,indexLevelId,dist))\n",
    "            if indexLevelId!=-1:\n",
    "                return [stationName,indexLevel,indexLevelId]\n",
    "    return [stationName,indexLevel,IndexLevelId]"
   ]
  },
  {
   "cell_type": "code",
   "execution_count": 16,
   "metadata": {},
   "outputs": [
    {
     "name": "stdout",
     "output_type": "stream",
     "text": [
      "['Warszawa-Targówek', 'Umiarkowany', 2]\n",
      "['Kraków, Aleja Krasińskiego', 'Bardzo zły', 5]\n",
      "['Poznan-Dabrowskiego', 'Dostateczny', 3]\n"
     ]
    }
   ],
   "source": [
    "print(getNearestIndexLevel(52.267316957465944,21.062164306640625)) #Warszawa\n",
    "print(getNearestIndexLevel(50.04655739071663,19.934692382812504)) #Krakow\n",
    "print(getNearestIndexLevel(52.40786463393834,16.938171386718754)) #Poznan"
   ]
  },
  {
   "cell_type": "code",
   "execution_count": null,
   "metadata": {},
   "outputs": [],
   "source": []
  },
  {
   "cell_type": "code",
   "execution_count": null,
   "metadata": {},
   "outputs": [],
   "source": []
  },
  {
   "cell_type": "code",
   "execution_count": null,
   "metadata": {},
   "outputs": [],
   "source": []
  }
 ],
 "metadata": {
  "kernelspec": {
   "display_name": "Python 3",
   "language": "python",
   "name": "python3"
  },
  "language_info": {
   "codemirror_mode": {
    "name": "ipython",
    "version": 3
   },
   "file_extension": ".py",
   "mimetype": "text/x-python",
   "name": "python",
   "nbconvert_exporter": "python",
   "pygments_lexer": "ipython3",
   "version": "3.6.3"
  }
 },
 "nbformat": 4,
 "nbformat_minor": 1
}
