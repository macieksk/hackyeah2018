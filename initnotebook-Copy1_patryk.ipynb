{
 "cells": [
  {
   "cell_type": "code",
   "execution_count": 14,
   "metadata": {},
   "outputs": [
    {
     "data": {
      "text/html": [
       "'R version 3.4.2 (2017-09-28)'"
      ],
      "text/latex": [
       "'R version 3.4.2 (2017-09-28)'"
      ],
      "text/markdown": [
       "'R version 3.4.2 (2017-09-28)'"
      ],
      "text/plain": [
       "[1] \"R version 3.4.2 (2017-09-28)\""
      ]
     },
     "metadata": {},
     "output_type": "display_data"
    },
    {
     "name": "stdout",
     "output_type": "stream",
     "text": [
      "[1] \"email: 'Maciek Sykulski'<macieksk@gmail.com>\"\n"
     ]
    },
    {
     "data": {
      "text/html": [
       "24"
      ],
      "text/latex": [
       "24"
      ],
      "text/markdown": [
       "24"
      ],
      "text/plain": [
       "[1] 24"
      ]
     },
     "metadata": {},
     "output_type": "display_data"
    }
   ],
   "source": [
    "R.version.string\n",
    "print(\"email: 'Maciek Sykulski'<macieksk@gmail.com>\")\n",
    "length(ls())"
   ]
  },
  {
   "cell_type": "code",
   "execution_count": 15,
   "metadata": {},
   "outputs": [
    {
     "data": {
      "text/html": [
       "'/home/hackyeah/hackyeah2018'"
      ],
      "text/latex": [
       "'/home/hackyeah/hackyeah2018'"
      ],
      "text/markdown": [
       "'/home/hackyeah/hackyeah2018'"
      ],
      "text/plain": [
       "[1] \"/home/hackyeah/hackyeah2018\""
      ]
     },
     "metadata": {},
     "output_type": "display_data"
    },
    {
     "data": {
      "text/html": [
       "'utils.R'"
      ],
      "text/latex": [
       "'utils.R'"
      ],
      "text/markdown": [
       "'utils.R'"
      ],
      "text/plain": [
       "[1] \"utils.R\""
      ]
     },
     "metadata": {},
     "output_type": "display_data"
    }
   ],
   "source": [
    "getwd()\n",
    "system2(\"ls src -alh\")\n",
    "dir(\"src\")"
   ]
  },
  {
   "cell_type": "code",
   "execution_count": 16,
   "metadata": {},
   "outputs": [],
   "source": [
    "projDir<-\"/home/hackyeah/hackyeah2018\"\n",
    "projectPrefix<-\"R_hackyeah\"\n",
    "\n",
    "#\n",
    "load.sources<-function(){\n",
    "    for (f in  c(\"utils.R\" #Contains inpar, save_new_image, etc\n",
    "                 #...  \n",
    "                 ) \n",
    "        ){\n",
    "    source(paste(projDir,\"/src/\",f,sep=\"\"))\n",
    "   }\n",
    "}\n",
    "load.sources()"
   ]
  },
  {
   "cell_type": "code",
   "execution_count": 17,
   "metadata": {},
   "outputs": [
    {
     "data": {
      "text/html": [
       "<table>\n",
       "<thead><tr><th></th><th scope=col>Type</th><th scope=col>Size</th><th scope=col>Rows</th><th scope=col>Columns</th></tr></thead>\n",
       "<tbody>\n",
       "\t<tr><th scope=row>load.sources</th><td>function</td><td>24384   </td><td>NA      </td><td>NA      </td></tr>\n",
       "\t<tr><th scope=row>cpar</th><td>function</td><td> 8904   </td><td>NA      </td><td>NA      </td></tr>\n",
       "\t<tr><th scope=row>read.table.into.db</th><td>function</td><td> 7184   </td><td>NA      </td><td>NA      </td></tr>\n",
       "\t<tr><th scope=row>db.info</th><td>function</td><td> 6200   </td><td>NA      </td><td>NA      </td></tr>\n",
       "\t<tr><th scope=row>safe_command_run</th><td>function</td><td> 5488   </td><td>NA      </td><td>NA      </td></tr>\n",
       "\t<tr><th scope=row>multiloop</th><td>function</td><td> 5376   </td><td>NA      </td><td>NA      </td></tr>\n",
       "\t<tr><th scope=row>postscript.call</th><td>function</td><td> 4856   </td><td>NA      </td><td>NA      </td></tr>\n",
       "\t<tr><th scope=row>add.records.to.table</th><td>function</td><td> 4704   </td><td>NA      </td><td>NA      </td></tr>\n",
       "\t<tr><th scope=row>save_new_image</th><td>function</td><td> 4544   </td><td>NA      </td><td>NA      </td></tr>\n",
       "\t<tr><th scope=row>pdf.call</th><td>function</td><td> 4528   </td><td>NA      </td><td>NA      </td></tr>\n",
       "</tbody>\n",
       "</table>\n"
      ],
      "text/latex": [
       "\\begin{tabular}{r|llll}\n",
       "  & Type & Size & Rows & Columns\\\\\n",
       "\\hline\n",
       "\tload.sources & function & 24384    & NA       & NA      \\\\\n",
       "\tcpar & function &  8904    & NA       & NA      \\\\\n",
       "\tread.table.into.db & function &  7184    & NA       & NA      \\\\\n",
       "\tdb.info & function &  6200    & NA       & NA      \\\\\n",
       "\tsafe\\_command\\_run & function &  5488    & NA       & NA      \\\\\n",
       "\tmultiloop & function &  5376    & NA       & NA      \\\\\n",
       "\tpostscript.call & function &  4856    & NA       & NA      \\\\\n",
       "\tadd.records.to.table & function &  4704    & NA       & NA      \\\\\n",
       "\tsave\\_new\\_image & function &  4544    & NA       & NA      \\\\\n",
       "\tpdf.call & function &  4528    & NA       & NA      \\\\\n",
       "\\end{tabular}\n"
      ],
      "text/markdown": [
       "\n",
       "| <!--/--> | Type | Size | Rows | Columns | \n",
       "|---|---|---|---|---|---|---|---|---|---|\n",
       "| load.sources | function | 24384    | NA       | NA       | \n",
       "| cpar | function |  8904    | NA       | NA       | \n",
       "| read.table.into.db | function |  7184    | NA       | NA       | \n",
       "| db.info | function |  6200    | NA       | NA       | \n",
       "| safe_command_run | function |  5488    | NA       | NA       | \n",
       "| multiloop | function |  5376    | NA       | NA       | \n",
       "| postscript.call | function |  4856    | NA       | NA       | \n",
       "| add.records.to.table | function |  4704    | NA       | NA       | \n",
       "| save_new_image | function |  4544    | NA       | NA       | \n",
       "| pdf.call | function |  4528    | NA       | NA       | \n",
       "\n",
       "\n"
      ],
      "text/plain": [
       "                     Type     Size  Rows Columns\n",
       "load.sources         function 24384 NA   NA     \n",
       "cpar                 function  8904 NA   NA     \n",
       "read.table.into.db   function  7184 NA   NA     \n",
       "db.info              function  6200 NA   NA     \n",
       "safe_command_run     function  5488 NA   NA     \n",
       "multiloop            function  5376 NA   NA     \n",
       "postscript.call      function  4856 NA   NA     \n",
       "add.records.to.table function  4704 NA   NA     \n",
       "save_new_image       function  4544 NA   NA     \n",
       "pdf.call             function  4528 NA   NA     "
      ]
     },
     "metadata": {},
     "output_type": "display_data"
    },
    {
     "data": {
      "text/html": [
       "<table>\n",
       "<thead><tr><th></th><th scope=col>used</th><th scope=col>(Mb)</th><th scope=col>gc trigger</th><th scope=col>(Mb)</th><th scope=col>max used</th><th scope=col>(Mb)</th></tr></thead>\n",
       "<tbody>\n",
       "\t<tr><th scope=row>Ncells</th><td> 767059</td><td>41.0   </td><td>1442291</td><td>77.1   </td><td>1168576</td><td>62.5   </td></tr>\n",
       "\t<tr><th scope=row>Vcells</th><td>1262048</td><td> 9.7   </td><td>2379327</td><td>18.2   </td><td>1780662</td><td>13.6   </td></tr>\n",
       "</tbody>\n",
       "</table>\n"
      ],
      "text/latex": [
       "\\begin{tabular}{r|llllll}\n",
       "  & used & (Mb) & gc trigger & (Mb) & max used & (Mb)\\\\\n",
       "\\hline\n",
       "\tNcells &  767059 & 41.0    & 1442291 & 77.1    & 1168576 & 62.5   \\\\\n",
       "\tVcells & 1262048 &  9.7    & 2379327 & 18.2    & 1780662 & 13.6   \\\\\n",
       "\\end{tabular}\n"
      ],
      "text/markdown": [
       "\n",
       "| <!--/--> | used | (Mb) | gc trigger | (Mb) | max used | (Mb) | \n",
       "|---|---|\n",
       "| Ncells |  767059 | 41.0    | 1442291 | 77.1    | 1168576 | 62.5    | \n",
       "| Vcells | 1262048 |  9.7    | 2379327 | 18.2    | 1780662 | 13.6    | \n",
       "\n",
       "\n"
      ],
      "text/plain": [
       "       used    (Mb) gc trigger (Mb) max used (Mb)\n",
       "Ncells  767059 41.0 1442291    77.1 1168576  62.5\n",
       "Vcells 1262048  9.7 2379327    18.2 1780662  13.6"
      ]
     },
     "metadata": {},
     "output_type": "display_data"
    }
   ],
   "source": [
    "#system.time(load(paste(projDir,\"/r_saved_images/\",projectPrefix,\".Rdata\",sep=\"\")))\n",
    "lsos()\n",
    "gc()"
   ]
  },
  {
   "cell_type": "code",
   "execution_count": 18,
   "metadata": {},
   "outputs": [
    {
     "data": {
      "text/html": [
       "<table>\n",
       "<thead><tr><th></th><th scope=col>used</th><th scope=col>(Mb)</th><th scope=col>gc trigger</th><th scope=col>(Mb)</th><th scope=col>max used</th><th scope=col>(Mb)</th></tr></thead>\n",
       "<tbody>\n",
       "\t<tr><th scope=row>Ncells</th><td> 767084</td><td>41.0   </td><td>1442291</td><td>77.1   </td><td>1168576</td><td>62.5   </td></tr>\n",
       "\t<tr><th scope=row>Vcells</th><td>1262246</td><td> 9.7   </td><td>2379327</td><td>18.2   </td><td>1780662</td><td>13.6   </td></tr>\n",
       "</tbody>\n",
       "</table>\n"
      ],
      "text/latex": [
       "\\begin{tabular}{r|llllll}\n",
       "  & used & (Mb) & gc trigger & (Mb) & max used & (Mb)\\\\\n",
       "\\hline\n",
       "\tNcells &  767084 & 41.0    & 1442291 & 77.1    & 1168576 & 62.5   \\\\\n",
       "\tVcells & 1262246 &  9.7    & 2379327 & 18.2    & 1780662 & 13.6   \\\\\n",
       "\\end{tabular}\n"
      ],
      "text/markdown": [
       "\n",
       "| <!--/--> | used | (Mb) | gc trigger | (Mb) | max used | (Mb) | \n",
       "|---|---|\n",
       "| Ncells |  767084 | 41.0    | 1442291 | 77.1    | 1168576 | 62.5    | \n",
       "| Vcells | 1262246 |  9.7    | 2379327 | 18.2    | 1780662 | 13.6    | \n",
       "\n",
       "\n"
      ],
      "text/plain": [
       "       used    (Mb) gc trigger (Mb) max used (Mb)\n",
       "Ncells  767084 41.0 1442291    77.1 1168576  62.5\n",
       "Vcells 1262246  9.7 2379327    18.2 1780662  13.6"
      ]
     },
     "metadata": {},
     "output_type": "display_data"
    }
   ],
   "source": [
    "gc()\n",
    "#system.time(save_new_image())"
   ]
  },
  {
   "cell_type": "code",
   "execution_count": 19,
   "metadata": {},
   "outputs": [
    {
     "data": {
      "text/plain": [
       "R version 3.4.2 (2017-09-28)\n",
       "Platform: x86_64-pc-linux-gnu (64-bit)\n",
       "Running under: Debian GNU/Linux buster/sid\n",
       "\n",
       "Matrix products: default\n",
       "BLAS: /usr/lib/x86_64-linux-gnu/openblas/libblas.so.3\n",
       "LAPACK: /usr/lib/x86_64-linux-gnu/libopenblasp-r0.2.20.so\n",
       "\n",
       "locale:\n",
       "[1] C\n",
       "\n",
       "attached base packages:\n",
       "[1] parallel  stats     graphics  grDevices utils     datasets  methods  \n",
       "[8] base     \n",
       "\n",
       "other attached packages:\n",
       " [1] matrixStats_0.52.2  reshape_0.8.7       MASS_7.3-47        \n",
       " [4] cluster_2.0.6       gplots_3.0.1        ggplot2_2.2.1      \n",
       " [7] latticeExtra_0.6-28 RColorBrewer_1.1-2  lattice_0.20-35    \n",
       "[10] sqldf_0.4-11        RSQLite_2.0         gsubfn_0.6-6       \n",
       "[13] proto_1.0.0         fastmatch_1.1-0     hash_2.2.6         \n",
       "\n",
       "loaded via a namespace (and not attached):\n",
       " [1] Rcpp_0.12.13         plyr_1.8.4           compiler_3.4.2      \n",
       " [4] bitops_1.0-6         tools_3.4.2          digest_0.6.12       \n",
       " [7] uuid_0.1-2           bit_1.1-12           jsonlite_1.5        \n",
       "[10] evaluate_0.10.1      memoise_1.1.0        tibble_1.3.4        \n",
       "[13] gtable_0.2.0         rlang_0.1.4          IRdisplay_0.4.4     \n",
       "[16] DBI_0.7              IRkernel_0.8.12.9000 repr_0.12.0         \n",
       "[19] stringr_1.2.0        caTools_1.17.1       gtools_3.5.0        \n",
       "[22] bit64_0.9-7          grid_3.4.2           R6_2.2.2            \n",
       "[25] tcltk_3.4.2          gdata_2.18.0         pbdZMQ_0.2-6        \n",
       "[28] blob_1.1.0           magrittr_1.5         scales_0.5.0        \n",
       "[31] colorspace_1.3-2     KernSmooth_2.23-15   stringi_1.1.6       \n",
       "[34] lazyeval_0.2.1       munsell_0.4.3        chron_2.3-51        \n",
       "[37] crayon_1.3.4        "
      ]
     },
     "metadata": {},
     "output_type": "display_data"
    }
   ],
   "source": [
    "library(lattice)\n",
    "library(latticeExtra)\n",
    "library(ggplot2)\n",
    "library(gplots)\n",
    "#library(png)\n",
    "\n",
    "#library(Hmisc)\n",
    "library(cluster)\n",
    "library(MASS)\n",
    "library(reshape)\n",
    "\n",
    "#library(lumi)\n",
    "#library(lumiHumanIDMapping)\n",
    "#library(lumiHumanAll.db)\n",
    "#library(limma)\n",
    "\n",
    "#library(annotate)\n",
    "#library(GOstats)\n",
    "\n",
    "#library(multtest)\n",
    "library(matrixStats)\n",
    "#library(extrafont)\n",
    "#library(enrichvs)\n",
    "#library(statmod)\n",
    "#library(flexmix)\n",
    "\n",
    "load.sources()\n",
    "\n",
    "sessionInfo()"
   ]
  },
  {
   "cell_type": "code",
   "execution_count": 22,
   "metadata": {},
   "outputs": [],
   "source": [
    "?load\n",
    "\n"
   ]
  },
  {
   "cell_type": "code",
   "execution_count": null,
   "metadata": {},
   "outputs": [],
   "source": []
  }
 ],
 "metadata": {
  "kernelspec": {
   "display_name": "R",
   "language": "R",
   "name": "ir"
  },
  "language_info": {
   "codemirror_mode": "r",
   "file_extension": ".r",
   "mimetype": "text/x-r-source",
   "name": "R",
   "pygments_lexer": "r",
   "version": "3.4.2"
  }
 },
 "nbformat": 4,
 "nbformat_minor": 1
}
